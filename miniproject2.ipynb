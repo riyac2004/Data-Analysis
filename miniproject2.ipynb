{
 "cells": [
  {
   "cell_type": "code",
   "execution_count": 1,
   "id": "c261d25e-25c8-4339-bbff-85cf001568a9",
   "metadata": {},
   "outputs": [],
   "source": [
    "import pandas as pd"
   ]
  },
  {
   "cell_type": "code",
   "execution_count": 3,
   "id": "57452f1f-3e09-4a79-8cfd-cd3d11aa7568",
   "metadata": {},
   "outputs": [
    {
     "name": "stdout",
     "output_type": "stream",
     "text": [
      "Student DataFrame with Pass/Fail Status:\n",
      "   Student_ID     Name Grade  Score Pass/Fail\n",
      "0           1    Alice     A     85      Pass\n",
      "1           2      Bob     B     45      Fail\n",
      "2           3  Charlie     C     78      Pass\n",
      "3           4    David     A     92      Pass\n",
      "4           5     Emma     B     30      Fail\n",
      "5           6    Frank     C     66      Pass\n",
      "6           7    Grace     A     55      Pass\n",
      "7           8   Hannah     B     90      Pass\n",
      "8           9    Isaac     C     47      Fail\n",
      "9          10     Jack     A     80      Pass\n",
      "Changes observed: Added 'Pass/Fail' column to the dataset.\n"
     ]
    }
   ],
   "source": [
    "# Creating a DataFrame with 'Student ID', 'Name', 'Grade', and 'Score'\n",
    "df_students = pd.DataFrame({\n",
    "    'Student_ID': range(1, 11),\n",
    "    'Name': ['Alice', 'Bob', 'Charlie', 'David', 'Emma', 'Frank', 'Grace', 'Hannah', 'Isaac', 'Jack'],\n",
    "    'Grade': ['A', 'B', 'C', 'A', 'B', 'C', 'A', 'B', 'C', 'A'],\n",
    "    'Score': [85, 45, 78, 92, 30, 66, 55, 90, 47, 80]\n",
    "})\n",
    "\n",
    "# Assign 'Pass/Fail' status based on Score > 50\n",
    "df_students['Pass/Fail'] = df_students['Score'].apply(lambda x: 'Pass' if x > 50 else 'Fail')\n",
    "print(\"Student DataFrame with Pass/Fail Status:\")\n",
    "print(df_students)\n",
    "\n",
    "# Saving original and modified DataFrame to Excel\n",
    "df_students.to_excel(\"original_students.xlsx\", index=False)\n",
    "df_students.to_excel(\"modified_students.xlsx\", index=False)\n",
    "\n",
    "# Comparing the original and modified versions\n",
    "print(\"Changes observed: Added 'Pass/Fail' column to the dataset.\")\n"
   ]
  },
  {
   "cell_type": "code",
   "execution_count": null,
   "id": "aeb251d7-8f50-4395-b47b-b4939b590333",
   "metadata": {},
   "outputs": [],
   "source": []
  }
 ],
 "metadata": {
  "kernelspec": {
   "display_name": "Python [conda env:base] *",
   "language": "python",
   "name": "conda-base-py"
  },
  "language_info": {
   "codemirror_mode": {
    "name": "ipython",
    "version": 3
   },
   "file_extension": ".py",
   "mimetype": "text/x-python",
   "name": "python",
   "nbconvert_exporter": "python",
   "pygments_lexer": "ipython3",
   "version": "3.12.7"
  }
 },
 "nbformat": 4,
 "nbformat_minor": 5
}
