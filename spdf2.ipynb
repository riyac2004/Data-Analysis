{
 "cells": [
  {
   "cell_type": "code",
   "execution_count": 9,
   "id": "9d374c24-5867-4aa8-8197-c9aab935c550",
   "metadata": {},
   "outputs": [],
   "source": [
    "import pandas as pd\n",
    "import numpy as np\n",
    "import matplotlib.pyplot as plt\n",
    "import seaborn as sns\n",
    "from faker import Faker"
   ]
  },
  {
   "cell_type": "code",
   "execution_count": 10,
   "id": "f328bc9e-361e-4478-9573-53e2131410ca",
   "metadata": {},
   "outputs": [],
   "source": [
    "\n",
    "# Load the dataset\n",
    "df = pd.read_excel(\"product_demand_forecasting.xlsx\")\n"
   ]
  },
  {
   "cell_type": "code",
   "execution_count": 13,
   "id": "f4f3d695-0be5-4133-98ad-88c49fc148ff",
   "metadata": {},
   "outputs": [
    {
     "name": "stdout",
     "output_type": "stream",
     "text": [
      "         Date  Product ID Product Name       Category  Sales Quantity  \\\n",
      "0  2022-01-01         101       Laptop    Electronics               9   \n",
      "1  2022-01-01         102   Smartphone    Electronics              13   \n",
      "2  2022-01-01         103   Headphones    Electronics              43   \n",
      "3  2022-01-01         201      Shampoo  Personal Care              36   \n",
      "4  2022-01-01         202         Soap  Personal Care              27   \n",
      "\n",
      "   Unit Price  Revenue  Stock Level Seasonality Indicator  \n",
      "0       82.94   746.45           23                Normal  \n",
      "1       42.00   545.98          223                Normal  \n",
      "2       37.83  1626.64           30                Normal  \n",
      "3      118.55  4267.82          199                Normal  \n",
      "4      120.72  3259.53          197                Normal  \n",
      "            Date  Product ID Product Name       Category  Sales Quantity  \\\n",
      "5105  2023-12-31         103   Headphones    Electronics              25   \n",
      "5106  2023-12-31         201      Shampoo  Personal Care              44   \n",
      "5107  2023-12-31         202         Soap  Personal Care              37   \n",
      "5108  2023-12-31         301      T-shirt       Clothing              48   \n",
      "5109  2023-12-31         302        Jeans       Clothing               1   \n",
      "\n",
      "      Unit Price  Revenue  Stock Level Seasonality Indicator  \n",
      "5105       22.13   553.29          426                Normal  \n",
      "5106      121.85  5361.19           15                Normal  \n",
      "5107      174.10  6441.72          356               Holiday  \n",
      "5108      112.10  5380.58          110                Normal  \n",
      "5109       35.48    35.48          256                Normal  \n"
     ]
    }
   ],
   "source": [
    "\n",
    "# Data Exploration\n",
    "\n",
    "#2. Display the first 5 and last 5 rows of the dataset. \n",
    "print(df.head())\n",
    "print(df.tail())\n"
   ]
  },
  {
   "cell_type": "code",
   "execution_count": 11,
   "id": "fb09c19d-c649-4421-8b2b-01cb3252f1da",
   "metadata": {},
   "outputs": [
    {
     "name": "stdout",
     "output_type": "stream",
     "text": [
      "Shape of dataset: (5110, 9)\n"
     ]
    }
   ],
   "source": [
    "\n",
    "#3. Check the shape of the dataset (rows and columns).\n",
    "print(\"Shape of dataset:\", df.shape)\n"
   ]
  },
  {
   "cell_type": "code",
   "execution_count": 13,
   "id": "1d159473-0ef7-4b40-8029-43214b2986d8",
   "metadata": {},
   "outputs": [
    {
     "name": "stdout",
     "output_type": "stream",
     "text": [
      "Column Names and Data Types:\n",
      "Date                      object\n",
      "Product ID                 int64\n",
      "Product Name              object\n",
      "Category                  object\n",
      "Sales Quantity             int64\n",
      "Unit Price               float64\n",
      "Revenue                  float64\n",
      "Stock Level                int64\n",
      "Seasonality Indicator     object\n",
      "dtype: object\n"
     ]
    }
   ],
   "source": [
    "\n",
    "#4. List the column names and data types of the dataset. \n",
    "print(\"Column Names and Data Types:\")\n",
    "print(df.dtypes)\n"
   ]
  },
  {
   "cell_type": "code",
   "execution_count": 15,
   "id": "c4036040-149b-40cd-b243-2243b6ad8721",
   "metadata": {},
   "outputs": [
    {
     "name": "stdout",
     "output_type": "stream",
     "text": [
      "Missing Values:\n",
      "Date                     0\n",
      "Product ID               0\n",
      "Product Name             0\n",
      "Category                 0\n",
      "Sales Quantity           0\n",
      "Unit Price               0\n",
      "Revenue                  0\n",
      "Stock Level              0\n",
      "Seasonality Indicator    0\n",
      "dtype: int64\n"
     ]
    }
   ],
   "source": [
    "\n",
    "#5. Check for missing values in the dataset and count them.\n",
    "print(\"Missing Values:\")\n",
    "print(df.isnull().sum())\n"
   ]
  },
  {
   "cell_type": "code",
   "execution_count": 17,
   "id": "46d47ff7-b605-48c4-a3de-6459a89033d7",
   "metadata": {},
   "outputs": [
    {
     "name": "stdout",
     "output_type": "stream",
     "text": [
      "Summary Statistics:\n",
      "        Product ID  Sales Quantity   Unit Price      Revenue  Stock Level\n",
      "count  5110.000000     5110.000000  5110.000000  5110.000000  5110.000000\n",
      "mean    187.428571       24.829354   104.746350  2610.965250   250.176125\n",
      "std      83.089600       14.814553    54.292945  2221.458188   143.795760\n",
      "min     101.000000        0.000000    10.010000     0.000000     0.000000\n",
      "25%     102.000000       12.000000    58.585000   790.940000   126.000000\n",
      "50%     201.000000       25.000000   102.920000  1997.045000   249.000000\n",
      "75%     301.000000       38.000000   151.670000  3938.560000   375.000000\n",
      "max     302.000000       50.000000   199.980000  9941.500000   500.000000\n"
     ]
    }
   ],
   "source": [
    "\n",
    "#6. Display summary statistics (mean, median, std, etc.) for the numerical columns.\n",
    "print(\"Summary Statistics:\")\n",
    "print(df.describe())\n"
   ]
  },
  {
   "cell_type": "code",
   "execution_count": 19,
   "id": "adcc82fb-4542-4966-b20f-a51ace707b3e",
   "metadata": {},
   "outputs": [
    {
     "name": "stdout",
     "output_type": "stream",
     "text": [
      "Duplicate Rows: 0\n"
     ]
    }
   ],
   "source": [
    "\n",
    "#7. Identify any duplicate rows in the dataset and remove them.\n",
    "print(\"Duplicate Rows:\", df.duplicated().sum())\n",
    "df.drop_duplicates(inplace=True)\n"
   ]
  },
  {
   "cell_type": "code",
   "execution_count": 21,
   "id": "19b2269c-7af2-488e-891e-1a91be78a5d8",
   "metadata": {},
   "outputs": [
    {
     "name": "stdout",
     "output_type": "stream",
     "text": [
      "Unique Values:\n",
      "Date                      730\n",
      "Product ID                  7\n",
      "Product Name                7\n",
      "Category                    3\n",
      "Sales Quantity             51\n",
      "Unit Price               4505\n",
      "Revenue                  4989\n",
      "Stock Level               501\n",
      "Seasonality Indicator       2\n",
      "dtype: int64\n"
     ]
    }
   ],
   "source": [
    "\n",
    "#8. Get the number of unique values in each column.\n",
    "print(\"Unique Values:\")\n",
    "print(df.nunique())\n"
   ]
  },
  {
   "cell_type": "code",
   "execution_count": 45,
   "id": "baf47c8d-b5b6-4124-a469-7488f84f5b36",
   "metadata": {},
   "outputs": [
    {
     "name": "stdout",
     "output_type": "stream",
     "text": [
      "Before Filling Missing Values:\n",
      "Date                     0\n",
      "Product ID               0\n",
      "Product Name             0\n",
      "Category                 0\n",
      "Sales Quantity           0\n",
      "Unit Price               0\n",
      "Revenue                  0\n",
      "Stock Level              0\n",
      "Seasonality Indicator    0\n",
      "dtype: int64\n",
      "After Filling Missing Values:\n",
      "Date                     0\n",
      "Product ID               0\n",
      "Product Name             0\n",
      "Category                 0\n",
      "Sales Quantity           0\n",
      "Unit Price               0\n",
      "Revenue                  0\n",
      "Stock Level              0\n",
      "Seasonality Indicator    0\n",
      "dtype: int64\n"
     ]
    }
   ],
   "source": [
    "# Data Cleaning\n",
    "\n",
    "#1. Fill any missing values in numerical columns with the mean of the respective column.\n",
    "print(\"Before Filling Missing Values:\")\n",
    "print(df.isnull().sum())\n",
    "df.fillna(df.mean(numeric_only=True), inplace=True)  # Fill missing values in numerical columns with mean\n",
    "print(\"After Filling Missing Values:\")\n",
    "print(df.isnull().sum())\n"
   ]
  },
  {
   "cell_type": "code",
   "execution_count": 41,
   "id": "69d60db8-0806-48ab-afcc-b8eb00014c95",
   "metadata": {},
   "outputs": [
    {
     "name": "stdout",
     "output_type": "stream",
     "text": [
      "After Dropping Rows with Missing Values:\n",
      "(5110, 9)\n"
     ]
    }
   ],
   "source": [
    "\n",
    "#2. Drop rows with any missing values. \n",
    "df.dropna(inplace=True)  # Drop rows with missing values\n",
    "print(\"After Dropping Rows with Missing Values:\")\n",
    "print(df.shape)\n"
   ]
  },
  {
   "cell_type": "code",
   "execution_count": 47,
   "id": "526eba2f-b49a-40d3-905a-32c473b59c4b",
   "metadata": {},
   "outputs": [
    {
     "name": "stdout",
     "output_type": "stream",
     "text": [
      "After Replacing 'NA' with NaN:\n",
      "Date                     0\n",
      "Product ID               0\n",
      "Product Name             0\n",
      "Category                 0\n",
      "Sales Quantity           0\n",
      "Unit Price               0\n",
      "Revenue                  0\n",
      "Stock Level              0\n",
      "Seasonality Indicator    0\n",
      "dtype: int64\n"
     ]
    }
   ],
   "source": [
    "\n",
    "#3. Replace all occurrences of a specific value in a column (e.g., replace 'NA' with NaN).\n",
    "df.replace(\"NA\", np.nan, inplace=True)  # Replace 'NA' with NaN\n",
    "print(\"After Replacing 'NA' with NaN:\")\n",
    "print(df.isnull().sum())\n"
   ]
  },
  {
   "cell_type": "code",
   "execution_count": 49,
   "id": "aa3604b4-5915-46aa-afab-b7eecb0629a1",
   "metadata": {},
   "outputs": [
    {
     "name": "stdout",
     "output_type": "stream",
     "text": [
      "After Dropping Unwanted Column:\n",
      "Index(['Date', 'Product ID', 'Product Name', 'Category', 'Sales Quantity',\n",
      "       'Unit Price', 'Revenue', 'Stock Level'],\n",
      "      dtype='object')\n"
     ]
    }
   ],
   "source": [
    "\n",
    "#4. Remove a specific column from the dataset. \n",
    "df.drop(columns=['Seasonality Indicator'], errors='ignore', inplace=True)  # Remove unwanted column\n",
    "print(\"After Dropping Unwanted Column:\")\n",
    "print(df.columns)\n"
   ]
  },
  {
   "cell_type": "code",
   "execution_count": 53,
   "id": "8dc6cb4e-9b57-4f6a-9645-c97a66eb7bbb",
   "metadata": {},
   "outputs": [
    {
     "name": "stdout",
     "output_type": "stream",
     "text": [
      "After Renaming Column:\n",
      "Index(['Date', 'Product ID', 'Product Name', 'Category', 'Sales Quantity',\n",
      "       'Unit Price', 'Revenue', 'Inventory Level'],\n",
      "      dtype='object')\n"
     ]
    }
   ],
   "source": [
    "\n",
    "#5. Rename a column from old_name to new_name. \n",
    "df.rename(columns={'Stock Level': 'Inventory Level'}, inplace=True)  # Rename column\n",
    "print(\"After Renaming Column:\")\n",
    "print(df.columns)\n"
   ]
  },
  {
   "cell_type": "code",
   "execution_count": 55,
   "id": "afc31337-118f-4b8e-86da-a4f5a96ca545",
   "metadata": {},
   "outputs": [
    {
     "name": "stdout",
     "output_type": "stream",
     "text": [
      "After Converting Date Column:\n",
      "Date               datetime64[ns]\n",
      "Product ID                  int64\n",
      "Product Name               object\n",
      "Category                   object\n",
      "Sales Quantity              int64\n",
      "Unit Price                float64\n",
      "Revenue                   float64\n",
      "Inventory Level             int64\n",
      "dtype: object\n"
     ]
    }
   ],
   "source": [
    "\n",
    "#6. Convert a column from string format to date format. \n",
    "df['Date'] = pd.to_datetime(df['Date'], errors='coerce')  # Convert string to date format\n",
    "print(\"After Converting Date Column:\")\n",
    "print(df.dtypes)\n"
   ]
  },
  {
   "cell_type": "code",
   "execution_count": 57,
   "id": "6b83c322-f546-4ae4-9852-3b3340a7b9ea",
   "metadata": {},
   "outputs": [
    {
     "name": "stdout",
     "output_type": "stream",
     "text": [
      "After Normalizing Unit Price:\n",
      "   Unit Price  Normalized_Unit_Price\n",
      "0       82.94               0.383903\n",
      "1       42.00               0.168395\n",
      "2       37.83               0.146444\n",
      "3      118.55               0.571353\n",
      "4      120.72               0.582776\n"
     ]
    }
   ],
   "source": [
    "\n",
    "#7. Normalize a numerical column to scale the values between 0 and 1.\n",
    "df['Normalized_Unit_Price'] = (df['Unit Price'] - df['Unit Price'].min()) / (df['Unit Price'].max() - df['Unit Price'].min()) \n",
    "print(\"After Normalizing Unit Price:\")\n",
    "print(df[['Unit Price', 'Normalized_Unit_Price']].head())\n"
   ]
  },
  {
   "cell_type": "code",
   "execution_count": 61,
   "id": "1ad74658-3231-44d7-86d4-da606a05c497",
   "metadata": {},
   "outputs": [
    {
     "name": "stdout",
     "output_type": "stream",
     "text": [
      "0        9\n",
      "1       13\n",
      "2       43\n",
      "3       36\n",
      "4       27\n",
      "        ..\n",
      "5105    25\n",
      "5106    44\n",
      "5107    37\n",
      "5108    48\n",
      "5109     1\n",
      "Name: Sales Quantity, Length: 5110, dtype: int64\n"
     ]
    }
   ],
   "source": [
    "# Data Selection and Filtering\n",
    "\n",
    "#1. Select the Sales Quantity column from the DataFrame.\n",
    "print(df['Sales Quantity'])\n"
   ]
  },
  {
   "cell_type": "code",
   "execution_count": 63,
   "id": "eaa13a76-88bc-4835-912c-12426128dc8a",
   "metadata": {},
   "outputs": [
    {
     "name": "stdout",
     "output_type": "stream",
     "text": [
      "     Product Name       Category\n",
      "0          Laptop    Electronics\n",
      "1      Smartphone    Electronics\n",
      "2      Headphones    Electronics\n",
      "3         Shampoo  Personal Care\n",
      "4            Soap  Personal Care\n",
      "...           ...            ...\n",
      "5105   Headphones    Electronics\n",
      "5106      Shampoo  Personal Care\n",
      "5107         Soap  Personal Care\n",
      "5108      T-shirt       Clothing\n",
      "5109        Jeans       Clothing\n",
      "\n",
      "[5110 rows x 2 columns]\n"
     ]
    }
   ],
   "source": [
    "\n",
    "#2. Select the Product Name and Category columns from the DataFrame.\n",
    "print(df[['Product Name', 'Category']])\n"
   ]
  },
  {
   "cell_type": "code",
   "execution_count": 65,
   "id": "a8bb8db9-77aa-4e97-9483-4ae80f26d17c",
   "metadata": {},
   "outputs": [
    {
     "name": "stdout",
     "output_type": "stream",
     "text": [
      "           Date  Product ID Product Name       Category  Sales Quantity  \\\n",
      "2    2022-01-01         103   Headphones    Electronics              43   \n",
      "3    2022-01-01         201      Shampoo  Personal Care              36   \n",
      "9    2022-01-02         103   Headphones    Electronics              34   \n",
      "10   2022-01-02         201      Shampoo  Personal Care              47   \n",
      "12   2022-01-02         301      T-shirt       Clothing              33   \n",
      "...         ...         ...          ...            ...             ...   \n",
      "5096 2023-12-30         101       Laptop    Electronics              32   \n",
      "5103 2023-12-31         101       Laptop    Electronics              45   \n",
      "5106 2023-12-31         201      Shampoo  Personal Care              44   \n",
      "5107 2023-12-31         202         Soap  Personal Care              37   \n",
      "5108 2023-12-31         301      T-shirt       Clothing              48   \n",
      "\n",
      "      Unit Price  Revenue  Inventory Level  Normalized_Unit_Price  \n",
      "2          37.83  1626.64               30               0.146444  \n",
      "3         118.55  4267.82              199               0.571353  \n",
      "9          77.98  2651.16              220               0.357793  \n",
      "10         32.70  1536.92              165               0.119440  \n",
      "12        159.48  5262.70              368               0.786808  \n",
      "...          ...      ...              ...                    ...  \n",
      "5096      174.13  5572.13              328               0.863926  \n",
      "5103      190.60  8576.87               33               0.950624  \n",
      "5106      121.85  5361.19               15               0.588725  \n",
      "5107      174.10  6441.72              356               0.863768  \n",
      "5108      112.10  5380.58              110               0.537401  \n",
      "\n",
      "[2003 rows x 9 columns]\n"
     ]
    }
   ],
   "source": [
    "#3. Filter the DataFrame to show rows where the Sales Quantity is greater than 30. \n",
    "print(df[df['Sales Quantity'] > 30])\n"
   ]
  },
  {
   "cell_type": "code",
   "execution_count": 69,
   "id": "bd145a7e-c8ca-41bd-93e1-9438ee9814df",
   "metadata": {},
   "outputs": [
    {
     "name": "stdout",
     "output_type": "stream",
     "text": [
      "           Date  Product ID Product Name     Category  Sales Quantity  \\\n",
      "0    2022-01-01         101       Laptop  Electronics               9   \n",
      "1    2022-01-01         102   Smartphone  Electronics              13   \n",
      "2    2022-01-01         103   Headphones  Electronics              43   \n",
      "7    2022-01-02         101       Laptop  Electronics              20   \n",
      "8    2022-01-02         102   Smartphone  Electronics               7   \n",
      "...         ...         ...          ...          ...             ...   \n",
      "5097 2023-12-30         102   Smartphone  Electronics               3   \n",
      "5098 2023-12-30         103   Headphones  Electronics              15   \n",
      "5103 2023-12-31         101       Laptop  Electronics              45   \n",
      "5104 2023-12-31         102   Smartphone  Electronics              13   \n",
      "5105 2023-12-31         103   Headphones  Electronics              25   \n",
      "\n",
      "      Unit Price  Revenue  Inventory Level  Normalized_Unit_Price  \n",
      "0          82.94   746.45               23               0.383903  \n",
      "1          42.00   545.98              223               0.168395  \n",
      "2          37.83  1626.64               30               0.146444  \n",
      "7         108.87  2177.40              433               0.520398  \n",
      "8          35.04   245.27              309               0.131758  \n",
      "...          ...      ...              ...                    ...  \n",
      "5097      103.15   309.44               72               0.490288  \n",
      "5098       49.51   742.64              266               0.207928  \n",
      "5103      190.60  8576.87               33               0.950624  \n",
      "5104       61.18   795.30              293               0.269358  \n",
      "5105       22.13   553.29              426               0.063800  \n",
      "\n",
      "[2190 rows x 9 columns]\n"
     ]
    }
   ],
   "source": [
    "\n",
    "#4. Filter the dataset to display only rows where the Category is \"Electronics\".\n",
    "print(df[df['Category'] == \"Electronics\"])\n"
   ]
  },
  {
   "cell_type": "code",
   "execution_count": 103,
   "id": "20f9f867-e5fb-450a-899f-37d4cfa3728e",
   "metadata": {},
   "outputs": [
    {
     "name": "stdout",
     "output_type": "stream",
     "text": [
      "Before Sorting:\n",
      "           Date  Product ID     Item Product_Category  Total_Sales  \\\n",
      "5101 2023-12-30         301  T-shirt         Clothing            0   \n",
      "3443 2023-05-07         302    Jeans         Clothing            0   \n",
      "545  2022-03-19         302    Jeans         Clothing            0   \n",
      "2554 2022-12-31         302    Jeans         Clothing            0   \n",
      "3414 2023-05-03         301  T-shirt         Clothing            0   \n",
      "\n",
      "      Price_Per_Unit  Total_Revenue  Inventory Level  Normalized_Unit_Price  \n",
      "5101           22.98            0.0               35               0.068274  \n",
      "3443          142.42            0.0               18               0.697005  \n",
      "545            30.25            0.0              193               0.106543  \n",
      "2554           50.39            0.0              424               0.212560  \n",
      "3414          192.18            0.0              377               0.958941  \n",
      "After Sorting by Total_Sales in Ascending Order:\n",
      "           Date  Product ID     Item Product_Category  Total_Sales  \\\n",
      "5101 2023-12-30         301  T-shirt         Clothing            0   \n",
      "928  2022-05-13         202     Soap    Personal Care            0   \n",
      "4504 2023-10-06         201  Shampoo    Personal Care            0   \n",
      "361  2022-02-21         202     Soap    Personal Care            0   \n",
      "3840 2023-07-03         202     Soap    Personal Care            0   \n",
      "\n",
      "      Price_Per_Unit  Total_Revenue  Inventory Level  Normalized_Unit_Price  \n",
      "5101           22.98            0.0               35               0.068274  \n",
      "928           195.58            0.0                0               0.976838  \n",
      "4504           11.29            0.0               43               0.006738  \n",
      "361            41.60            0.0              106               0.166289  \n",
      "3840          166.72            0.0               39               0.824920  \n"
     ]
    }
   ],
   "source": [
    "\n",
    "# Sorting\n",
    "#1. Sort the DataFrame by Total_Sales in ascending order. \n",
    "print(\"Before Sorting:\")\n",
    "print(df.head())\n",
    "\n",
    "df.sort_values(by='Total_Sales', ascending=True, inplace=True)\n",
    "print(\"After Sorting by Total_Sales in Ascending Order:\")\n",
    "print(df.head())\n"
   ]
  },
  {
   "cell_type": "code",
   "execution_count": 111,
   "id": "61f82541-7062-4856-b730-51bf8aed1651",
   "metadata": {},
   "outputs": [
    {
     "name": "stdout",
     "output_type": "stream",
     "text": [
      "After Sorting by Product_Category Alphabetically:\n",
      "           Date  Product ID     Item Product_Category  Total_Sales  \\\n",
      "4604 2023-10-20         301  T-shirt         Clothing           50   \n",
      "4156 2023-08-17         301  T-shirt         Clothing           26   \n",
      "4024 2023-07-29         302    Jeans         Clothing           49   \n",
      "810  2022-04-26         301  T-shirt         Clothing           11   \n",
      "537  2022-03-18         301  T-shirt         Clothing           18   \n",
      "\n",
      "      Price_Per_Unit  Total_Revenue  Inventory Level  Normalized_Unit_Price  \n",
      "4604          198.83        9941.50              318               0.993946  \n",
      "4156           76.57        1990.92              257               0.350371  \n",
      "4024           40.67        1993.00               95               0.161394  \n",
      "810           181.40        1995.37               44               0.902195  \n",
      "537           110.94        1996.94              224               0.531294  \n"
     ]
    }
   ],
   "source": [
    "\n",
    "#2. Sort the column alphabetically (for example, Product_Category). \n",
    "df.sort_values(by='Product_Category', inplace=True)\n",
    "print(\"After Sorting by Product_Category Alphabetically:\")\n",
    "print(df.head())\n"
   ]
  },
  {
   "cell_type": "code",
   "execution_count": 109,
   "id": "b6646e48-4f22-46bf-a366-99f130bf2714",
   "metadata": {},
   "outputs": [
    {
     "name": "stdout",
     "output_type": "stream",
     "text": [
      "After Sorting by Total_Revenue in Descending Order:\n",
      "           Date  Product ID        Item Product_Category  Total_Sales  \\\n",
      "4604 2023-10-20         301     T-shirt         Clothing           50   \n",
      "4349 2023-09-14         103  Headphones      Electronics           50   \n",
      "3191 2023-04-01         302       Jeans         Clothing           50   \n",
      "3346 2023-04-24         101      Laptop      Electronics           50   \n",
      "265  2022-02-07         302       Jeans         Clothing           50   \n",
      "\n",
      "      Price_Per_Unit  Total_Revenue  Inventory Level  Normalized_Unit_Price  \n",
      "4604          198.83        9941.50              318               0.993946  \n",
      "4349          198.31        9915.32              499               0.991209  \n",
      "3191          197.39        9869.73              264               0.986366  \n",
      "3346          196.02        9801.05              328               0.979155  \n",
      "265           195.46        9773.13                7               0.976207  \n"
     ]
    }
   ],
   "source": [
    "\n",
    "#3. Sort the column in descending order (for example, Total_Revenue).\n",
    "df.sort_values(by='Total_Revenue', ascending=False, inplace=True)\n",
    "print(\"After Sorting by Total_Revenue in Descending Order:\")\n",
    "print(df.head())\n"
   ]
  },
  {
   "cell_type": "code",
   "execution_count": 107,
   "id": "f1c380ee-85a5-4372-83e4-b11d37b3bc54",
   "metadata": {},
   "outputs": [
    {
     "name": "stdout",
     "output_type": "stream",
     "text": [
      "After Sorting by Product_Category First, then by Total_Sales:\n",
      "           Date  Product ID     Item Product_Category  Total_Sales  \\\n",
      "5101 2023-12-30         301  T-shirt         Clothing            0   \n",
      "3744 2023-06-19         302    Jeans         Clothing            0   \n",
      "2169 2022-11-06         302    Jeans         Clothing            0   \n",
      "2805 2023-02-05         301  T-shirt         Clothing            0   \n",
      "4346 2023-09-13         302    Jeans         Clothing            0   \n",
      "\n",
      "      Price_Per_Unit  Total_Revenue  Inventory Level  Normalized_Unit_Price  \n",
      "5101           22.98            0.0               35               0.068274  \n",
      "3744          168.78            0.0              417               0.835764  \n",
      "2169          185.08            0.0              219               0.921567  \n",
      "2805           89.01            0.0              118               0.415855  \n",
      "4346          125.15            0.0                3               0.606096  \n"
     ]
    }
   ],
   "source": [
    "\n",
    "#4. Sort the DataFrame by Category first and then by Sales . \n",
    "df.sort_values(by=['Product_Category', 'Total_Sales'], inplace=True)\n",
    "print(\"After Sorting by Product_Category First, then by Total_Sales:\")\n",
    "print(df.head())\n"
   ]
  },
  {
   "cell_type": "code",
   "execution_count": 105,
   "id": "4fc081bb-58fa-460c-8f91-b67bd4864db3",
   "metadata": {},
   "outputs": [
    {
     "name": "stdout",
     "output_type": "stream",
     "text": [
      "After Sorting by Total_Sales and Keeping Only First 3 Rows:\n",
      "           Date  Product ID        Item Product_Category  Total_Sales  \\\n",
      "5101 2023-12-30         301     T-shirt         Clothing            0   \n",
      "625  2022-03-31         103  Headphones      Electronics            0   \n",
      "554  2022-03-21         102  Smartphone      Electronics            0   \n",
      "\n",
      "      Price_Per_Unit  Total_Revenue  Inventory Level  Normalized_Unit_Price  \n",
      "5101           22.98            0.0               35               0.068274  \n",
      "625           153.30            0.0              295               0.754277  \n",
      "554            98.21            0.0              364               0.464284  \n"
     ]
    }
   ],
   "source": [
    "\n",
    "#5. Sort the DataFrame by Total_Sales and keep only the first 3 rows. \n",
    "print(\"After Sorting by Total_Sales and Keeping Only First 3 Rows:\")\n",
    "print(df.sort_values(by='Total_Sales').head(3))"
   ]
  },
  {
   "cell_type": "code",
   "execution_count": 15,
   "id": "cdf743d9-30ea-4a5b-af76-769d32795a05",
   "metadata": {},
   "outputs": [
    {
     "name": "stdout",
     "output_type": "stream",
     "text": [
      "Before Renaming Columns:\n",
      "Index(['Date', 'Product ID', 'Product Name', 'Category', 'Sales Quantity',\n",
      "       'Unit Price', 'Revenue', 'Stock Level', 'Seasonality Indicator'],\n",
      "      dtype='object')\n",
      "After Renaming 'Product Name' to 'Item':\n",
      "Index(['Date', 'Product ID', 'Item', 'Category', 'Sales Quantity',\n",
      "       'Unit Price', 'Revenue', 'Stock Level', 'Seasonality Indicator'],\n",
      "      dtype='object')\n"
     ]
    }
   ],
   "source": [
    "# Renaming Columns\n",
    "\n",
    "#1. Rename the Product Name column to Item. \n",
    "print(\"Before Renaming Columns:\")\n",
    "print(df.columns)\n",
    "df.rename(columns={'Product Name': 'Item'}, inplace=True)\n",
    "print(\"After Renaming 'Product Name' to 'Item':\")\n",
    "print(df.columns)\n"
   ]
  },
  {
   "cell_type": "code",
   "execution_count": 17,
   "id": "18575822-f425-456f-8b09-e6998f7ded4d",
   "metadata": {},
   "outputs": [
    {
     "name": "stdout",
     "output_type": "stream",
     "text": [
      "After Renaming 'Sales Quantity' to 'Total_Sales':\n",
      "Index(['Date', 'Product ID', 'Item', 'Category', 'Total_Sales', 'Unit Price',\n",
      "       'Revenue', 'Stock Level', 'Seasonality Indicator'],\n",
      "      dtype='object')\n"
     ]
    }
   ],
   "source": [
    "\n",
    "#2. Rename the Sales Quantity column to Total_Sales.\n",
    "df.rename(columns={'Sales Quantity': 'Total_Sales'}, inplace=True)\n",
    "print(\"After Renaming 'Sales Quantity' to 'Total_Sales':\")\n",
    "print(df.columns)\n"
   ]
  },
  {
   "cell_type": "code",
   "execution_count": 19,
   "id": "64a809ea-03a1-4b86-bae4-4fc1cd340ccf",
   "metadata": {},
   "outputs": [
    {
     "name": "stdout",
     "output_type": "stream",
     "text": [
      "After Renaming Multiple Columns (Unit Price to Price_Per_Unit, Category to Product_Category):\n",
      "Index(['Date', 'Product ID', 'Item', 'Product_Category', 'Total_Sales',\n",
      "       'Price_Per_Unit', 'Revenue', 'Stock Level', 'Seasonality Indicator'],\n",
      "      dtype='object')\n"
     ]
    }
   ],
   "source": [
    "\n",
    "#3. Rename multiple columns at once (e.g., Unit Price to Price_Per_Unit and Category to Product_Category). \n",
    "df.rename(columns={'Unit Price': 'Price_Per_Unit', 'Category': 'Product_Category'}, inplace=True)\n",
    "print(\"After Renaming Multiple Columns (Unit Price to Price_Per_Unit, Category to Product_Category):\")\n",
    "print(df.columns)\n"
   ]
  },
  {
   "cell_type": "code",
   "execution_count": 21,
   "id": "bab870a6-d5f2-43b3-9d4c-3f3e1a8be72d",
   "metadata": {},
   "outputs": [
    {
     "name": "stdout",
     "output_type": "stream",
     "text": [
      "After Renaming 'Revenue' to 'Total_Revenue':\n",
      "Index(['Date', 'Product ID', 'Item', 'Product_Category', 'Total_Sales',\n",
      "       'Price_Per_Unit', 'Total_Revenue', 'Stock Level',\n",
      "       'Seasonality Indicator'],\n",
      "      dtype='object')\n"
     ]
    }
   ],
   "source": [
    "\n",
    "#4. Change the column name to a simpler one (e.g., Revenue to Total_Revenue).\n",
    "df.rename(columns={'Revenue': 'Total_Revenue'}, inplace=True)\n",
    "print(\"After Renaming 'Revenue' to 'Total_Revenue':\")\n",
    "print(df.columns)\n"
   ]
  },
  {
   "cell_type": "code",
   "execution_count": 23,
   "id": "eafc9c72-8816-4f08-89ed-895737bac097",
   "metadata": {},
   "outputs": [
    {
     "name": "stdout",
     "output_type": "stream",
     "text": [
      "Mean of Total_Sales: 24.8293542074364\n"
     ]
    }
   ],
   "source": [
    "\n",
    "# Data Aggregation\n",
    "\n",
    "#1. Find the average of the Total_Sales column. \n",
    "print(\"Mean of Total_Sales:\", df['Total_Sales'].mean())\n"
   ]
  },
  {
   "cell_type": "code",
   "execution_count": 25,
   "id": "f83fc43a-738f-41e0-b3be-a8edc113612d",
   "metadata": {},
   "outputs": [
    {
     "name": "stdout",
     "output_type": "stream",
     "text": [
      "Total Revenue Sum: 13342032.43\n"
     ]
    }
   ],
   "source": [
    "\n",
    "#2. Find the total sum of the Total_Revenue column. \n",
    "print(\"Total Revenue Sum:\", df['Total_Revenue'].sum())\n"
   ]
  },
  {
   "cell_type": "code",
   "execution_count": 27,
   "id": "d5039c72-fd96-4045-bc95-7d37dce24a13",
   "metadata": {},
   "outputs": [
    {
     "name": "stdout",
     "output_type": "stream",
     "text": [
      "Count of Each Product_Category:\n",
      "Product_Category\n",
      "Electronics      2190\n",
      "Personal Care    1460\n",
      "Clothing         1460\n",
      "Name: count, dtype: int64\n"
     ]
    }
   ],
   "source": [
    "\n",
    "#3. Count how many times each value appears in the Product_Category column. \n",
    "print(\"Count of Each Product_Category:\")\n",
    "print(df['Product_Category'].value_counts())\n"
   ]
  },
  {
   "cell_type": "code",
   "execution_count": 29,
   "id": "35acc876-6aa6-4bfa-8f8f-05565555816a",
   "metadata": {},
   "outputs": [
    {
     "name": "stdout",
     "output_type": "stream",
     "text": [
      "Sum of Total_Sales Grouped by Product_Category:\n",
      "Product_Category\n",
      "Clothing         36326\n",
      "Electronics      53367\n",
      "Personal Care    37185\n",
      "Name: Total_Sales, dtype: int64\n"
     ]
    }
   ],
   "source": [
    "\n",
    "#4. Calculate the total sum of Total_Sales for each unique value in the Product_Category column. \n",
    "print(\"Sum of Total_Sales Grouped by Product_Category:\")\n",
    "print(df.groupby('Product_Category')['Total_Sales'].sum())\n"
   ]
  },
  {
   "cell_type": "code",
   "execution_count": 31,
   "id": "6e2779fa-8082-4e81-ab7b-4443108f2e36",
   "metadata": {},
   "outputs": [
    {
     "name": "stdout",
     "output_type": "stream",
     "text": [
      "Maximum Total_Sales Value: 50\n"
     ]
    }
   ],
   "source": [
    "\n",
    "#5. Find the highest Total_Sales in the dataset. \n",
    "print(\"Maximum Total_Sales Value:\", df['Total_Sales'].max())\n"
   ]
  },
  {
   "cell_type": "code",
   "execution_count": 33,
   "id": "3cc4a5da-a141-4c00-9d91-45d390c4c30c",
   "metadata": {},
   "outputs": [
    {
     "name": "stdout",
     "output_type": "stream",
     "text": [
      "Minimum Price_Per_Unit: 10.01\n"
     ]
    }
   ],
   "source": [
    "\n",
    "#6. Calculate the minimum Price_Per_Unit in the dataset.\n",
    "print(\"Minimum Price_Per_Unit:\", df['Price_Per_Unit'].min())\n"
   ]
  },
  {
   "cell_type": "code",
   "execution_count": 125,
   "id": "17cd894b-d0e0-4c71-8615-92a767352f30",
   "metadata": {},
   "outputs": [
    {
     "data": {
      "image/png": "[encoded data removed]",
      "text/plain": [
       "<Figure size 1000x500 with 1 Axes>"
      ]
     },
     "metadata": {},
     "output_type": "display_data"
    }
   ],
   "source": [
    "# Data Visualization\n",
    "\n",
    "#1. Create a simple bar plot of Product_Category vs. Total_Sales. \n",
    "plt.figure(figsize=(10, 5))\n",
    "df.groupby('Product_Category')['Total_Sales'].mean().plot(kind='bar')\n",
    "plt.title(\"Average Sales by Product Category\")\n",
    "plt.xlabel(\"Product Category\")\n",
    "plt.ylabel(\"Average Sales\")\n",
    "plt.show()\n"
   ]
  },
  {
   "cell_type": "code",
   "execution_count": 127,
   "id": "3f817c9a-a472-4bf2-9df7-3375013f1be4",
   "metadata": {},
   "outputs": [
    {
     "data": {
      "image/png": "[encoded data removed]",
      "text/plain": [
       "<Figure size 1000x500 with 1 Axes>"
      ]
     },
     "metadata": {},
     "output_type": "display_data"
    }
   ],
   "source": [
    "\n",
    "#2. Create a line plot for Total_Sales over an index. \n",
    "plt.figure(figsize=(10, 5))\n",
    "df['Total_Sales'].plot(kind='line')\n",
    "plt.title(\"Total Sales Over Index\")\n",
    "plt.xlabel(\"Index\")\n",
    "plt.ylabel(\"Total Sales\")\n",
    "plt.show()\n"
   ]
  },
  {
   "cell_type": "code",
   "execution_count": 129,
   "id": "d776d84e-a870-4f6a-8461-920dab584c94",
   "metadata": {},
   "outputs": [
    {
     "data": {
      "image/png": "[encoded data removed]",
      "text/plain": [
       "<Figure size 1000x500 with 1 Axes>"
      ]
     },
     "metadata": {},
     "output_type": "display_data"
    }
   ],
   "source": [
    "#3. Create a histogram for the Total_Sales column. \n",
    "plt.figure(figsize=(10, 5))\n",
    "df['Total_Sales'].plot(kind='hist', bins=20)\n",
    "plt.title(\"Distribution of Total Sales\")\n",
    "plt.xlabel(\"Total Sales\")\n",
    "plt.ylabel(\"Frequency\")\n",
    "plt.show()\n"
   ]
  },
  {
   "cell_type": "code",
   "execution_count": 131,
   "id": "09937ed0-c81c-4657-a428-89467ff43e8f",
   "metadata": {},
   "outputs": [
    {
     "data": {
      "image/png": "[encoded data removed]",
      "text/plain": [
       "<Figure size 700x700 with 1 Axes>"
      ]
     },
     "metadata": {},
     "output_type": "display_data"
    }
   ],
   "source": [
    "\n",
    "#4. Create a pie chart to show the distribution of values in the Product_Category column. \n",
    "plt.figure(figsize=(7, 7))\n",
    "df['Product_Category'].value_counts().plot(kind='pie', autopct='%1.1f%%')\n",
    "plt.title(\"Distribution of Product Categories\")\n",
    "plt.ylabel(\"\")\n",
    "plt.show()\n"
   ]
  },
  {
   "cell_type": "code",
   "execution_count": 147,
   "id": "f5a1aae1-c7b8-41e1-839a-f457174f9abd",
   "metadata": {},
   "outputs": [
    {
     "data": {
      "image/png": "[encoded data removed]",
      "text/plain": [
       "<Figure size 1000x500 with 1 Axes>"
      ]
     },
     "metadata": {},
     "output_type": "display_data"
    }
   ],
   "source": [
    "\n",
    "#5. Create a scatter plot between Total_Sales and Price_Per_Unit. \n",
    "plt.figure(figsize=(10, 5))\n",
    "sns.scatterplot(x=df['Price_Per_Unit'], y=df['Total_Sales'])\n",
    "plt.title(\"Scatter Plot of Price vs. Total Sales\")\n",
    "plt.xlabel(\"Price Per Unit\")\n",
    "plt.ylabel(\"Total Sales\")\n",
    "plt.show()\n"
   ]
  },
  {
   "cell_type": "code",
   "execution_count": 135,
   "id": "66c659f2-1870-4d8b-acfb-68f263b5037b",
   "metadata": {},
   "outputs": [
    {
     "data": {
      "image/png": "[encoded data removed]",
      "text/plain": [
       "<Figure size 1000x500 with 1 Axes>"
      ]
     },
     "metadata": {},
     "output_type": "display_data"
    }
   ],
   "source": [
    "\n",
    "#6. Display a box plot for the Total_Sales column. \n",
    "plt.figure(figsize=(10, 5))\n",
    "sns.boxplot(y=df['Total_Sales'])\n",
    "plt.title(\"Box Plot of Total Sales\")\n",
    "plt.ylabel(\"Total Sales\")\n",
    "plt.show()\n"
   ]
  },
  {
   "cell_type": "code",
   "execution_count": 149,
   "id": "745d2db6-a9dc-4f55-8dd3-f2db678640ec",
   "metadata": {},
   "outputs": [
    {
     "name": "stdout",
     "output_type": "stream",
     "text": [
      "Before String Manipulation:\n",
      "     Product_Category     Item\n",
      "4604         Clothing  T-shirt\n",
      "4156         Clothing  T-shirt\n",
      "4024         Clothing    Jeans\n",
      "810          Clothing  T-shirt\n",
      "537          Clothing  T-shirt\n"
     ]
    }
   ],
   "source": [
    "\n",
    "# String Manipulation\n",
    "\n",
    "#1. Convert the Product_Category column values to lowercase. \n",
    "print(\"Before String Manipulation:\")\n",
    "print(df[['Product_Category', 'Item']].head())\n"
   ]
  },
  {
   "cell_type": "code",
   "execution_count": 151,
   "id": "8efcdb6d-45c1-4d49-81a8-0b233e66bd32",
   "metadata": {},
   "outputs": [
    {
     "name": "stdout",
     "output_type": "stream",
     "text": [
      "After Converting Product_Category to Lowercase:\n",
      "     Product_Category\n",
      "4604         clothing\n",
      "4156         clothing\n",
      "4024         clothing\n",
      "810          clothing\n",
      "537          clothing\n"
     ]
    }
   ],
   "source": [
    "\n",
    "#2. Extract the first 3 characters of the Product_Category column. \n",
    "df['Product_Category'] = df['Product_Category'].str.lower()\n",
    "print(\"After Converting Product_Category to Lowercase:\")\n",
    "print(df[['Product_Category']].head())\n"
   ]
  },
  {
   "cell_type": "code",
   "execution_count": 153,
   "id": "f6939830-717d-41aa-8e18-9fc4e3fd260c",
   "metadata": {},
   "outputs": [
    {
     "name": "stdout",
     "output_type": "stream",
     "text": [
      "After Extracting First 3 Characters of Product_Category:\n",
      "     Product_Category Category_Short\n",
      "4604         clothing            clo\n",
      "4156         clothing            clo\n",
      "4024         clothing            clo\n",
      "810          clothing            clo\n",
      "537          clothing            clo\n"
     ]
    }
   ],
   "source": [
    "#3. Split the Name column into two columns: Product_Category and Category_Short. \n",
    "df['Category_Short'] = df['Product_Category'].str[:3]\n",
    "print(\"After Extracting First 3 Characters of Product_Category:\")\n",
    "print(df[['Product_Category', 'Category_Short']].head())\n"
   ]
  },
  {
   "cell_type": "code",
   "execution_count": 171,
   "id": "4dc949a6-5c72-440c-b549-20b26907ed51",
   "metadata": {},
   "outputs": [
    {
     "name": "stdout",
     "output_type": "stream",
     "text": [
      "After Splitting Item into Item_First_Part and Item_Second_Part:\n",
      "         Item Item_First_Part Item_Second_Part\n",
      "4604  T-shirt         T-shirt                 \n",
      "4156  T-shirt         T-shirt                 \n",
      "4024    Jeans           Jeans                 \n",
      "810   T-shirt         T-shirt                 \n",
      "537   T-shirt         T-shirt                 \n",
      "After Concatenating Item_First_Part and Item_Second_Part into Item_Full:\n",
      "     Item_First_Part Item_Second_Part Item_Full\n",
      "4604         T-shirt                    T-shirt\n",
      "4156         T-shirt                    T-shirt\n",
      "4024           Jeans                      Jeans\n",
      "810          T-shirt                    T-shirt\n",
      "537          T-shirt                    T-shirt\n"
     ]
    }
   ],
   "source": [
    "\n",
    "#4. Concatenate the Item_First_Part and Item_Second_Part columns into a new column Item_Full. \n",
    "split_names = df['Item'].str.split(n=1, expand=True)\n",
    "df['Item_First_Part'] = split_names[0]\n",
    "df['Item_Second_Part'] = split_names.get(1, '')  # Safe extraction of the second part\n",
    "print(\"After Splitting Item into Item_First_Part and Item_Second_Part:\")\n",
    "print(df[['Item', 'Item_First_Part', 'Item_Second_Part']].head())\n",
    "\n",
    "df['Item_Full'] = (df['Item_First_Part'] + ' ' + df['Item_Second_Part']).str.strip()\n",
    "print(\"After Concatenating Item_First_Part and Item_Second_Part into Item_Full:\")\n",
    "print(df[['Item_First_Part', 'Item_Second_Part', 'Item_Full']].head())\n",
    "\n"
   ]
  },
  {
   "cell_type": "code",
   "execution_count": 173,
   "id": "1b2c4415-7da5-4b05-903e-440a87f9a67d",
   "metadata": {},
   "outputs": [
    {
     "name": "stdout",
     "output_type": "stream",
     "text": [
      "After Replacing Spaces in Product_Category with Underscores:\n",
      "     Product_Category\n",
      "4604         clothing\n",
      "4156         clothing\n",
      "4024         clothing\n",
      "810          clothing\n",
      "537          clothing\n"
     ]
    }
   ],
   "source": [
    "\n",
    "#5. Replace all spaces in the Product_Category column with underscores. \n",
    "df['Product_Category'] = df['Product_Category'].str.replace(\" \", \"_\")\n",
    "print(\"After Replacing Spaces in Product_Category with Underscores:\")\n",
    "print(df[['Product_Category']].head())\n"
   ]
  },
  {
   "cell_type": "code",
   "execution_count": 175,
   "id": "d227814f-2d55-48ed-a3a0-3b0f5f25898f",
   "metadata": {},
   "outputs": [
    {
     "name": "stdout",
     "output_type": "stream",
     "text": [
      "First row of the dataset:\n",
      "Date                     2023-10-20 00:00:00\n",
      "Product ID                               301\n",
      "Item                                 T-shirt\n",
      "Product_Category                    clothing\n",
      "Total_Sales                               50\n",
      "Price_Per_Unit                        198.83\n",
      "Total_Revenue                         9941.5\n",
      "Inventory Level                          318\n",
      "Normalized_Unit_Price               0.993946\n",
      "Category_Short                           clo\n",
      "Item_First_Part                      T-shirt\n",
      "Item_Second_Part                            \n",
      "Item_Full                            T-shirt\n",
      "Name: 4604, dtype: object\n"
     ]
    }
   ],
   "source": [
    "# iloc Indexing\n",
    "#1. Select the first row of the dataset using iloc.\n",
    "print(\"First row of the dataset:\")\n",
    "print(df.iloc[0])\n"
   ]
  },
  {
   "cell_type": "code",
   "execution_count": 177,
   "id": "015acb62-5531-455f-934c-c6fe81410fab",
   "metadata": {},
   "outputs": [
    {
     "name": "stdout",
     "output_type": "stream",
     "text": [
      "Last 3 rows of the dataset:\n",
      "           Date  Product ID     Item Product_Category  Total_Sales  \\\n",
      "3734 2023-06-18         201  Shampoo    personal_care           36   \n",
      "3868 2023-07-07         202     Soap    personal_care           15   \n",
      "1712 2022-09-02         202     Soap    personal_care           43   \n",
      "\n",
      "      Price_Per_Unit  Total_Revenue  Inventory Level  Normalized_Unit_Price  \\\n",
      "3734           68.56        2468.21               31               0.308207   \n",
      "3868          171.89        2578.37              335               0.852135   \n",
      "1712          100.09        4303.72              130               0.474180   \n",
      "\n",
      "     Category_Short Item_First_Part Item_Second_Part Item_Full  \n",
      "3734            per         Shampoo                    Shampoo  \n",
      "3868            per            Soap                       Soap  \n",
      "1712            per            Soap                       Soap  \n"
     ]
    }
   ],
   "source": [
    "\n",
    "#2. Select the last 3 rows of the dataset using iloc. \n",
    "print(\"Last 3 rows of the dataset:\")\n",
    "print(df.iloc[-3:])\n"
   ]
  },
  {
   "cell_type": "code",
   "execution_count": 179,
   "id": "7a9ce3f2-ace7-4a3d-a185-9e1b7d7a4e9e",
   "metadata": {},
   "outputs": [
    {
     "name": "stdout",
     "output_type": "stream",
     "text": [
      "First 5 rows and first 3 columns:\n",
      "           Date  Product ID     Item\n",
      "4604 2023-10-20         301  T-shirt\n",
      "4156 2023-08-17         301  T-shirt\n",
      "4024 2023-07-29         302    Jeans\n",
      "810  2022-04-26         301  T-shirt\n",
      "537  2022-03-18         301  T-shirt\n"
     ]
    }
   ],
   "source": [
    "\n",
    "#3. Select the first 5 rows and the first 3 columns using iloc. \n",
    "print(\"First 5 rows and first 3 columns:\")\n",
    "print(df.iloc[:5, :3])\n"
   ]
  },
  {
   "cell_type": "code",
   "execution_count": 181,
   "id": "0ebe5e9d-5ed3-4d83-9061-dba71f767fe4",
   "metadata": {},
   "outputs": [
    {
     "name": "stdout",
     "output_type": "stream",
     "text": [
      "All rows but only the 2nd and 3rd columns:\n",
      "      Product ID     Item\n",
      "4604         301  T-shirt\n",
      "4156         301  T-shirt\n",
      "4024         302    Jeans\n",
      "810          301  T-shirt\n",
      "537          301  T-shirt\n",
      "...          ...      ...\n",
      "4904         202     Soap\n",
      "647          201  Shampoo\n",
      "3734         201  Shampoo\n",
      "3868         202     Soap\n",
      "1712         202     Soap\n",
      "\n",
      "[5110 rows x 2 columns]\n"
     ]
    }
   ],
   "source": [
    "\n",
    "#4. Select all rows of the dataset but only the 2nd and 3rd columns using iloc. \n",
    "print(\"All rows but only the 2nd and 3rd columns:\")\n",
    "print(df.iloc[:, 1:3])\n"
   ]
  },
  {
   "cell_type": "code",
   "execution_count": 183,
   "id": "43a5e41b-e4ff-4ff6-8ccf-57f6c4b8710c",
   "metadata": {},
   "outputs": [
    {
     "name": "stdout",
     "output_type": "stream",
     "text": [
      "Value at the 4th row and 2nd column:\n",
      "301\n"
     ]
    }
   ],
   "source": [
    "\n",
    "#5. Select the value at the 4th row and 2nd column using iloc. \n",
    "print(\"Value at the 4th row and 2nd column:\")\n",
    "print(df.iloc[3, 1])\n"
   ]
  },
  {
   "cell_type": "code",
   "execution_count": 185,
   "id": "be826c28-2c76-4378-8624-39443cfc9b7d",
   "metadata": {},
   "outputs": [
    {
     "name": "stdout",
     "output_type": "stream",
     "text": [
      "Rows 2 to 5 and columns 1 to 4:\n",
      "           Date  Product ID     Item Product_Category\n",
      "4024 2023-07-29         302    Jeans         clothing\n",
      "810  2022-04-26         301  T-shirt         clothing\n",
      "537  2022-03-18         301  T-shirt         clothing\n",
      "565  2022-03-22         301  T-shirt         clothing\n"
     ]
    }
   ],
   "source": [
    "\n",
    "#6. Use iloc to select rows 2 to 5 and columns 1 to 4.\n",
    "print(\"Rows 2 to 5 and columns 1 to 4:\")\n",
    "print(df.iloc[2:6, 0:4])\n"
   ]
  },
  {
   "cell_type": "code",
   "execution_count": 187,
   "id": "278dac88-73a6-4422-9d69-d599aa653625",
   "metadata": {},
   "outputs": [
    {
     "name": "stdout",
     "output_type": "stream",
     "text": [
      "Rows where Item is 'Laptop':\n",
      "           Date  Product ID    Item Product_Category  Total_Sales  \\\n",
      "3430 2023-05-06         101  Laptop      electronics           39   \n",
      "1134 2022-06-12         101  Laptop      electronics           19   \n",
      "2569 2023-01-03         101  Laptop      electronics           28   \n",
      "3682 2023-06-11         101  Laptop      electronics           12   \n",
      "4585 2023-10-18         101  Laptop      electronics            5   \n",
      "...         ...         ...     ...              ...          ...   \n",
      "882  2022-05-07         101  Laptop      electronics           12   \n",
      "4249 2023-08-31         101  Laptop      electronics           39   \n",
      "1330 2022-07-10         101  Laptop      electronics           27   \n",
      "2429 2022-12-14         101  Laptop      electronics           22   \n",
      "5054 2023-12-24         101  Laptop      electronics           33   \n",
      "\n",
      "      Price_Per_Unit  Total_Revenue  Inventory Level  Normalized_Unit_Price  \\\n",
      "3430          157.42        6139.23              314               0.775965   \n",
      "1134           55.04        1045.67              277               0.237037   \n",
      "2569           57.79        1618.10              332               0.251513   \n",
      "3682           79.96         959.55              182               0.368216   \n",
      "4585          192.58         962.89              348               0.961046   \n",
      "...              ...            ...              ...                    ...   \n",
      "882           151.52        1818.20              293               0.744907   \n",
      "4249           54.01        2106.56              216               0.231616   \n",
      "1330           67.47        1821.82              499               0.302469   \n",
      "2429          174.81        3845.78               57               0.867505   \n",
      "5054          165.22        5452.38              303               0.817024   \n",
      "\n",
      "     Category_Short Item_First_Part Item_Second_Part Item_Full  \n",
      "3430            ele          Laptop                     Laptop  \n",
      "1134            ele          Laptop                     Laptop  \n",
      "2569            ele          Laptop                     Laptop  \n",
      "3682            ele          Laptop                     Laptop  \n",
      "4585            ele          Laptop                     Laptop  \n",
      "...             ...             ...              ...       ...  \n",
      "882             ele          Laptop                     Laptop  \n",
      "4249            ele          Laptop                     Laptop  \n",
      "1330            ele          Laptop                     Laptop  \n",
      "2429            ele          Laptop                     Laptop  \n",
      "5054            ele          Laptop                     Laptop  \n",
      "\n",
      "[730 rows x 13 columns]\n"
     ]
    }
   ],
   "source": [
    "\n",
    "# loc - Label-based indexing\n",
    "#1. Select the row where the Name is \"Laptop\" using loc. \n",
    "print(\"Rows where Item is 'Laptop':\")\n",
    "print(df.loc[df['Item'] == 'Laptop'])\n"
   ]
  },
  {
   "cell_type": "code",
   "execution_count": 189,
   "id": "5cff29a2-ddd8-4300-b58c-4e385abddcf3",
   "metadata": {},
   "outputs": [
    {
     "name": "stdout",
     "output_type": "stream",
     "text": [
      "Rows where Total_Sales is greater than 30:\n",
      "           Date  Product ID     Item Product_Category  Total_Sales  \\\n",
      "4604 2023-10-20         301  T-shirt         clothing           50   \n",
      "4024 2023-07-29         302    Jeans         clothing           49   \n",
      "565  2022-03-22         301  T-shirt         clothing           38   \n",
      "1343 2022-07-11         302    Jeans         clothing           42   \n",
      "4381 2023-09-18         302    Jeans         clothing           45   \n",
      "...         ...         ...      ...              ...          ...   \n",
      "2180 2022-11-08         201  Shampoo    personal_care           43   \n",
      "2292 2022-11-24         201  Shampoo    personal_care           48   \n",
      "4904 2023-12-02         202     Soap    personal_care           40   \n",
      "3734 2023-06-18         201  Shampoo    personal_care           36   \n",
      "1712 2022-09-02         202     Soap    personal_care           43   \n",
      "\n",
      "      Price_Per_Unit  Total_Revenue  Inventory Level  Normalized_Unit_Price  \\\n",
      "4604          198.83        9941.50              318               0.993946   \n",
      "4024           40.67        1993.00               95               0.161394   \n",
      "565            52.73        2003.86              351               0.224878   \n",
      "1343           47.74        2004.87              272               0.198610   \n",
      "4381           44.92        2021.36               32               0.183766   \n",
      "...              ...            ...              ...                    ...   \n",
      "2180           20.68         889.30              480               0.056167   \n",
      "2292          104.63        5022.25              470               0.498079   \n",
      "4904          159.62        6384.65              152               0.787545   \n",
      "3734           68.56        2468.21               31               0.308207   \n",
      "1712          100.09        4303.72              130               0.474180   \n",
      "\n",
      "     Category_Short Item_First_Part Item_Second_Part Item_Full  \n",
      "4604            clo         T-shirt                    T-shirt  \n",
      "4024            clo           Jeans                      Jeans  \n",
      "565             clo         T-shirt                    T-shirt  \n",
      "1343            clo           Jeans                      Jeans  \n",
      "4381            clo           Jeans                      Jeans  \n",
      "...             ...             ...              ...       ...  \n",
      "2180            per         Shampoo                    Shampoo  \n",
      "2292            per         Shampoo                    Shampoo  \n",
      "4904            per            Soap                       Soap  \n",
      "3734            per         Shampoo                    Shampoo  \n",
      "1712            per            Soap                       Soap  \n",
      "\n",
      "[2003 rows x 13 columns]\n"
     ]
    }
   ],
   "source": [
    "\n",
    "#2. Select rows where the Total_Sales is greater than 30 using loc. \n",
    "print(\"Rows where Total_Sales is greater than 30:\")\n",
    "print(df.loc[df['Total_Sales'] > 30])\n"
   ]
  },
  {
   "cell_type": "code",
   "execution_count": 191,
   "id": "aa28c08d-518d-480f-acc7-946f5175194e",
   "metadata": {},
   "outputs": [
    {
     "name": "stdout",
     "output_type": "stream",
     "text": [
      "Product_Category where Total_Sales is between 20 and 40:\n",
      "4156         clothing\n",
      "565          clothing\n",
      "817          clothing\n",
      "1287         clothing\n",
      "2595         clothing\n",
      "            ...      \n",
      "2978    personal_care\n",
      "606     personal_care\n",
      "4784    personal_care\n",
      "3378    personal_care\n",
      "3734    personal_care\n",
      "Name: Product_Category, Length: 1853, dtype: object\n"
     ]
    }
   ],
   "source": [
    "\n",
    "#3. Select the City column for rows where Total_Sales is between 20 and 40 using loc. \n",
    "print(\"Product_Category where Total_Sales is between 20 and 40:\")\n",
    "print(df.loc[(df['Total_Sales'] > 20) & (df['Total_Sales'] < 40), 'Product_Category'])\n"
   ]
  },
  {
   "cell_type": "code",
   "execution_count": 193,
   "id": "3ee5d5fd-8817-4b92-ba57-c77994e2b978",
   "metadata": {},
   "outputs": [
    {
     "name": "stdout",
     "output_type": "stream",
     "text": [
      "All rows where Product_Category is 'electronics':\n",
      "           Date  Product ID        Item Product_Category  Total_Sales  \\\n",
      "3684 2023-06-11         103  Headphones      electronics           49   \n",
      "506  2022-03-14         103  Headphones      electronics           15   \n",
      "3074 2023-03-16         102  Smartphone      electronics           18   \n",
      "3430 2023-05-06         101      Laptop      electronics           39   \n",
      "3886 2023-07-10         102  Smartphone      electronics           22   \n",
      "...         ...         ...         ...              ...          ...   \n",
      "2429 2022-12-14         101      Laptop      electronics           22   \n",
      "1591 2022-08-16         103  Headphones      electronics           46   \n",
      "5054 2023-12-24         101      Laptop      electronics           33   \n",
      "5069 2023-12-26         102  Smartphone      electronics           29   \n",
      "3943 2023-07-18         103  Headphones      electronics           38   \n",
      "\n",
      "      Price_Per_Unit  Total_Revenue  Inventory Level  Normalized_Unit_Price  \\\n",
      "3684           20.59        1008.85              476               0.055693   \n",
      "506            63.69         955.29              476               0.282571   \n",
      "3074           53.06         955.00               79               0.226615   \n",
      "3430          157.42        6139.23              314               0.775965   \n",
      "3886           43.30         952.59              443               0.175238   \n",
      "...              ...            ...              ...                    ...   \n",
      "2429          174.81        3845.78               57               0.867505   \n",
      "1591           93.07        4281.12              119               0.437227   \n",
      "5054          165.22        5452.38              303               0.817024   \n",
      "5069          152.45        4421.18              189               0.749803   \n",
      "3943          143.59        5456.35              189               0.703164   \n",
      "\n",
      "     Category_Short Item_First_Part Item_Second_Part   Item_Full  \n",
      "3684            ele      Headphones                   Headphones  \n",
      "506             ele      Headphones                   Headphones  \n",
      "3074            ele      Smartphone                   Smartphone  \n",
      "3430            ele          Laptop                       Laptop  \n",
      "3886            ele      Smartphone                   Smartphone  \n",
      "...             ...             ...              ...         ...  \n",
      "2429            ele          Laptop                       Laptop  \n",
      "1591            ele      Headphones                   Headphones  \n",
      "5054            ele          Laptop                       Laptop  \n",
      "5069            ele      Smartphone                   Smartphone  \n",
      "3943            ele      Headphones                   Headphones  \n",
      "\n",
      "[2190 rows x 13 columns]\n"
     ]
    }
   ],
   "source": [
    "\n",
    "#4. Select all rows and columns where City is \"electronics\" using loc. \n",
    "print(\"All rows where Product_Category is 'electronics':\")\n",
    "print(df.loc[df['Product_Category'] == 'electronics'])\n"
   ]
  },
  {
   "cell_type": "code",
   "execution_count": 195,
   "id": "3fd03c45-c1b8-4d08-89d3-b419e9f1f91c",
   "metadata": {},
   "outputs": [
    {
     "name": "stdout",
     "output_type": "stream",
     "text": [
      "Selecting multiple columns (Item, Product_Category) for a specific row (index 5):\n",
      "Item                 T-shirt\n",
      "Product_Category    clothing\n",
      "Name: 5, dtype: object\n"
     ]
    }
   ],
   "source": [
    "\n",
    "#5. Select multiple columns (Item, Product_Category) for a specific row with loc. \n",
    "print(\"Selecting multiple columns (Item, Product_Category) for a specific row (index 5):\")\n",
    "print(df.loc[5, ['Item', 'Product_Category']])\n"
   ]
  },
  {
   "cell_type": "code",
   "execution_count": 197,
   "id": "4d5afa9a-010f-4d2a-b88d-b5bd03926b2e",
   "metadata": {},
   "outputs": [
    {
     "name": "stdout",
     "output_type": "stream",
     "text": [
      "Rows where Total_Sales > 25 and Product_Category is 'furniture':\n",
      "Empty DataFrame\n",
      "Columns: [Date, Product ID, Item, Product_Category, Total_Sales, Price_Per_Unit, Total_Revenue, Inventory Level, Normalized_Unit_Price, Category_Short, Item_First_Part, Item_Second_Part, Item_Full]\n",
      "Index: []\n"
     ]
    }
   ],
   "source": [
    "\n",
    "#6. Use loc to select the row where Total_Sales is greater than 25 and the Product_Category is \"furniture\".\n",
    "print(\"Rows where Total_Sales > 25 and Product_Category is 'furniture':\")\n",
    "print(df.loc[(df['Total_Sales'] > 25) & (df['Product_Category'] == 'furniture')])\n"
   ]
  },
  {
   "cell_type": "code",
   "execution_count": 37,
   "id": "88682cb2-08c4-4731-aa14-35bd67b88ed3",
   "metadata": {},
   "outputs": [
    {
     "name": "stdout",
     "output_type": "stream",
     "text": [
      "After Replacing 'Electronics' with 'Tech Gadgets' in Product_Category:\n",
      "  Product_Category\n",
      "0     Tech Gadgets\n",
      "1     Tech Gadgets\n",
      "2     Tech Gadgets\n",
      "3    Personal Care\n",
      "4    Personal Care\n"
     ]
    },
    {
     "name": "stderr",
     "output_type": "stream",
     "text": [
      "C:\\Users\\chava\\AppData\\Local\\Temp\\ipykernel_23732\\3491717822.py:3: FutureWarning: A value is trying to be set on a copy of a DataFrame or Series through chained assignment using an inplace method.\n",
      "The behavior will change in pandas 3.0. This inplace method will never work because the intermediate object on which we are setting values always behaves as a copy.\n",
      "\n",
      "For example, when doing 'df[col].method(value, inplace=True)', try using 'df.method({col: value}, inplace=True)' or df[col] = df[col].method(value) instead, to perform the operation inplace on the original object.\n",
      "\n",
      "\n",
      "  df['Product_Category'].replace(\"Electronics\", \"Tech Gadgets\", inplace=True)\n"
     ]
    }
   ],
   "source": [
    "\n",
    "# replace - Replacing values in a DataFrame: (Any 5) \n",
    "# 1. Replace 'Electronics' with 'Tech Gadgets' in 'Product_Category'\n",
    "df['Product_Category'].replace(\"Electronics\", \"Tech Gadgets\", inplace=True)\n",
    "print(\"After Replacing 'Electronics' with 'Tech Gadgets' in Product_Category:\")\n",
    "print(df[['Product_Category']].head())\n"
   ]
  },
  {
   "cell_type": "code",
   "execution_count": 39,
   "id": "4a0cd037-a2dd-4d0d-8e81-5ca3500c2297",
   "metadata": {},
   "outputs": [
    {
     "name": "stdout",
     "output_type": "stream",
     "text": [
      "After Replacing 0 with NaN in Total_Sales:\n",
      "   Total_Sales\n",
      "0          9.0\n",
      "1         13.0\n",
      "2         43.0\n",
      "3         36.0\n",
      "4         27.0\n"
     ]
    },
    {
     "name": "stderr",
     "output_type": "stream",
     "text": [
      "C:\\Users\\chava\\AppData\\Local\\Temp\\ipykernel_23732\\93027187.py:2: FutureWarning: A value is trying to be set on a copy of a DataFrame or Series through chained assignment using an inplace method.\n",
      "The behavior will change in pandas 3.0. This inplace method will never work because the intermediate object on which we are setting values always behaves as a copy.\n",
      "\n",
      "For example, when doing 'df[col].method(value, inplace=True)', try using 'df.method({col: value}, inplace=True)' or df[col] = df[col].method(value) instead, to perform the operation inplace on the original object.\n",
      "\n",
      "\n",
      "  df['Total_Sales'].replace(0, np.nan, inplace=True)\n"
     ]
    }
   ],
   "source": [
    "\n",
    "# 2. Replace 0 with NaN in 'Total_Sales'\n",
    "df['Total_Sales'].replace(0, np.nan, inplace=True)\n",
    "print(\"After Replacing 0 with NaN in Total_Sales:\")\n",
    "print(df[['Total_Sales']].head())\n"
   ]
  },
  {
   "cell_type": "code",
   "execution_count": 41,
   "id": "76059eee-7209-4a46-b22e-805d381ff5fe",
   "metadata": {},
   "outputs": [
    {
     "name": "stdout",
     "output_type": "stream",
     "text": [
      "After Replacing all occurrences of 100 with 50:\n",
      "         Date  Product ID        Item Product_Category  Total_Sales  \\\n",
      "0  2022-01-01         101      Laptop     Tech Gadgets          9.0   \n",
      "1  2022-01-01         102  Smartphone     Tech Gadgets         13.0   \n",
      "2  2022-01-01         103  Headphones     Tech Gadgets         43.0   \n",
      "3  2022-01-01         201     Shampoo    Personal Care         36.0   \n",
      "4  2022-01-01         202        Soap    Personal Care         27.0   \n",
      "\n",
      "   Price_Per_Unit  Total_Revenue  Stock Level Seasonality Indicator  \n",
      "0           82.94         746.45           23                Normal  \n",
      "1           42.00         545.98          223                Normal  \n",
      "2           37.83        1626.64           30                Normal  \n",
      "3          118.55        4267.82          199                Normal  \n",
      "4          120.72        3259.53          197                Normal  \n"
     ]
    }
   ],
   "source": [
    "\n",
    "# 3. Replace all occurrences of 100 with 50 in the entire DataFrame\n",
    "df.replace(100, 50, inplace=True)\n",
    "print(\"After Replacing all occurrences of 100 with 50:\")\n",
    "print(df.head())\n"
   ]
  },
  {
   "cell_type": "code",
   "execution_count": 61,
   "id": "e88b40fb-c902-48ed-af1f-b10349e7ebe6",
   "metadata": {},
   "outputs": [],
   "source": [
    "\n",
    "# 4. Identify a categorical column with two unique values and print before replacing\n",
    "for col in df.select_dtypes(include=['object']).columns:\n",
    "    unique_values = df[col].unique()\n",
    "    if len(unique_values) == 2:\n",
    "        print(f\"Before Replacing in {col}:\")\n",
    "        print(df[[col]].head())\n",
    "        df[col].replace({unique_values[0]: 1, unique_values[1]: 0}, inplace=True)\n",
    "        print(f\"After Replacing '{unique_values[0]}' with 1 and '{unique_values[1]}' with 0 in {col}:\")\n",
    "        print(df[[col]].head())\n",
    "        break"
   ]
  },
  {
   "cell_type": "code",
   "execution_count": 67,
   "id": "ac93935a-c8d0-4767-9e5b-c557cebde4c9",
   "metadata": {},
   "outputs": [
    {
     "name": "stdout",
     "output_type": "stream",
     "text": [
      "         Date  Product ID        Item Product_Category  Total_Sales  \\\n",
      "0  2022-01-01         101      Laptop     Tech Gadgets          9.0   \n",
      "1  2022-01-01         102  Smartphone     Tech Gadgets         13.0   \n",
      "2  2022-01-01         103  Headphones     Tech Gadgets         43.0   \n",
      "3  2022-01-01         201     Shampoo    Personal Care         36.0   \n",
      "4  2022-01-01         202        Soap    Personal Care         27.0   \n",
      "\n",
      "   Price_Per_Unit  Total_Revenue  Stock Level  Seasonality Indicator  \n",
      "0           82.94         746.45           23                      1  \n",
      "1           42.00         545.98          223                      1  \n",
      "2           37.83        1626.64           30                      1  \n",
      "3          118.55        4267.82          199                      1  \n",
      "4          120.72        3259.53          197                      1  \n"
     ]
    }
   ],
   "source": [
    "# Replacing 'High' and 'Low' in relevant column\n",
    "if 'Stock_Status' in df.columns:\n",
    "    df['Stock_Status'].replace({'High': 'Medium', 'Low': 'Small'}, inplace=True)\n",
    "    print(\"After Replacing 'High' with 'Medium' and 'Low' with 'Small' in Stock_Status:\")\n",
    "    print(df[['Stock_Status']].head())\n",
    "elif 'Product_Demand' in df.columns:\n",
    "    df['Product_Demand'].replace({'High': 'Medium', 'Low': 'Small'}, inplace=True)\n",
    "    print(\"After Replacing 'High' with 'Medium' and 'Low' with 'Small' in Product_Demand:\")\n",
    "    print(df[['Product_Demand']].head())\n",
    "print(df.head(5))\n"
   ]
  },
  {
   "cell_type": "code",
   "execution_count": 69,
   "id": "0204c2f5-9991-4825-9497-04d73f63feef",
   "metadata": {},
   "outputs": [
    {
     "name": "stdout",
     "output_type": "stream",
     "text": [
      "After Replacing 'NA' in Price_Per_Unit with the mean of the column:\n",
      "   Total_Sales\n",
      "0          9.0\n",
      "1         13.0\n",
      "2         43.0\n",
      "3         36.0\n",
      "4         27.0\n"
     ]
    },
    {
     "name": "stderr",
     "output_type": "stream",
     "text": [
      "C:\\Users\\chava\\AppData\\Local\\Temp\\ipykernel_23732\\3938528698.py:3: FutureWarning: A value is trying to be set on a copy of a DataFrame or Series through chained assignment using an inplace method.\n",
      "The behavior will change in pandas 3.0. This inplace method will never work because the intermediate object on which we are setting values always behaves as a copy.\n",
      "\n",
      "For example, when doing 'df[col].method(value, inplace=True)', try using 'df.method({col: value}, inplace=True)' or df[col] = df[col].method(value) instead, to perform the operation inplace on the original object.\n",
      "\n",
      "\n",
      "  df['Price_Per_Unit'].fillna(df['Price_Per_Unit'].mean(), inplace=True)\n"
     ]
    }
   ],
   "source": [
    "# 6. Replace 'NA' in 'Total_Sales' with the mean of the column\n",
    "if 'Total_Sales' in df.columns:\n",
    "    df['Price_Per_Unit'].fillna(df['Price_Per_Unit'].mean(), inplace=True)\n",
    "    print(\"After Replacing 'NA' in Price_Per_Unit with the mean of the column:\")\n",
    "    print(df[['Total_Sales']].head())\n"
   ]
  },
  {
   "cell_type": "code",
   "execution_count": 73,
   "id": "50d60b0d-7358-4439-ae27-7f80d380c053",
   "metadata": {},
   "outputs": [
    {
     "name": "stdout",
     "output_type": "stream",
     "text": [
      "Before setting index:\n",
      "         Date  Product ID        Item Product_Category  Total_Sales  \\\n",
      "0  2022-01-01         101      Laptop     Tech Gadgets          9.0   \n",
      "1  2022-01-01         102  Smartphone     Tech Gadgets         13.0   \n",
      "2  2022-01-01         103  Headphones     Tech Gadgets         43.0   \n",
      "3  2022-01-01         201     Shampoo    Personal Care         36.0   \n",
      "4  2022-01-01         202        Soap    Personal Care         27.0   \n",
      "\n",
      "   Price_Per_Unit  Total_Revenue  Stock Level  Seasonality Indicator  \n",
      "0           82.94         746.45           23                      1  \n",
      "1           42.00         545.98          223                      1  \n",
      "2           37.83        1626.64           30                      1  \n",
      "3          118.55        4267.82          199                      1  \n",
      "4          120.72        3259.53          197                      1  \n",
      "After setting 'Product_Category' as index:\n",
      "                        Date  Product ID        Item  Total_Sales  \\\n",
      "Product_Category                                                    \n",
      "Tech Gadgets      2022-01-01         101      Laptop          9.0   \n",
      "Tech Gadgets      2022-01-01         102  Smartphone         13.0   \n",
      "Tech Gadgets      2022-01-01         103  Headphones         43.0   \n",
      "Personal Care     2022-01-01         201     Shampoo         36.0   \n",
      "Personal Care     2022-01-01         202        Soap         27.0   \n",
      "\n",
      "                  Price_Per_Unit  Total_Revenue  Stock Level  \\\n",
      "Product_Category                                               \n",
      "Tech Gadgets               82.94         746.45           23   \n",
      "Tech Gadgets               42.00         545.98          223   \n",
      "Tech Gadgets               37.83        1626.64           30   \n",
      "Personal Care             118.55        4267.82          199   \n",
      "Personal Care             120.72        3259.53          197   \n",
      "\n",
      "                  Seasonality Indicator  \n",
      "Product_Category                         \n",
      "Tech Gadgets                          1  \n",
      "Tech Gadgets                          1  \n",
      "Tech Gadgets                          1  \n",
      "Personal Care                         1  \n",
      "Personal Care                         1  \n"
     ]
    }
   ],
   "source": [
    "# Indexing and Resetting Index\n",
    "print(\"Before setting index:\")\n",
    "print(df.head())\n",
    "\n",
    "# 1. Set 'Product_Category' as index\n",
    "df.set_index('Product_Category', inplace=True)\n",
    "print(\"After setting 'Product_Category' as index:\")\n",
    "print(df.head())\n"
   ]
  },
  {
   "cell_type": "code",
   "execution_count": 75,
   "id": "ca5b8896-6a63-4f57-a005-6a5d404bb613",
   "metadata": {},
   "outputs": [
    {
     "name": "stdout",
     "output_type": "stream",
     "text": [
      "After resetting index:\n",
      "  Product_Category        Date  Product ID        Item  Total_Sales  \\\n",
      "0     Tech Gadgets  2022-01-01         101      Laptop          9.0   \n",
      "1     Tech Gadgets  2022-01-01         102  Smartphone         13.0   \n",
      "2     Tech Gadgets  2022-01-01         103  Headphones         43.0   \n",
      "3    Personal Care  2022-01-01         201     Shampoo         36.0   \n",
      "4    Personal Care  2022-01-01         202        Soap         27.0   \n",
      "\n",
      "   Price_Per_Unit  Total_Revenue  Stock Level  Seasonality Indicator  \n",
      "0           82.94         746.45           23                      1  \n",
      "1           42.00         545.98          223                      1  \n",
      "2           37.83        1626.64           30                      1  \n",
      "3          118.55        4267.82          199                      1  \n",
      "4          120.72        3259.53          197                      1  \n"
     ]
    }
   ],
   "source": [
    "\n",
    "# 2. Reset index back to default\n",
    "df.reset_index(inplace=True)\n",
    "print(\"After resetting index:\")\n",
    "print(df.head())\n"
   ]
  },
  {
   "cell_type": "code",
   "execution_count": 77,
   "id": "8fa6e3ae-c3ab-4e38-a5ee-4f3c341c7fb1",
   "metadata": {},
   "outputs": [
    {
     "name": "stdout",
     "output_type": "stream",
     "text": [
      "After setting multi-level index with 'Product_Category' and 'Date':\n",
      "                             Product ID        Item  Total_Sales  \\\n",
      "Product_Category Date                                              \n",
      "Tech Gadgets     2022-01-01         101      Laptop          9.0   \n",
      "                 2022-01-01         102  Smartphone         13.0   \n",
      "                 2022-01-01         103  Headphones         43.0   \n",
      "Personal Care    2022-01-01         201     Shampoo         36.0   \n",
      "                 2022-01-01         202        Soap         27.0   \n",
      "\n",
      "                             Price_Per_Unit  Total_Revenue  Stock Level  \\\n",
      "Product_Category Date                                                     \n",
      "Tech Gadgets     2022-01-01           82.94         746.45           23   \n",
      "                 2022-01-01           42.00         545.98          223   \n",
      "                 2022-01-01           37.83        1626.64           30   \n",
      "Personal Care    2022-01-01          118.55        4267.82          199   \n",
      "                 2022-01-01          120.72        3259.53          197   \n",
      "\n",
      "                             Seasonality Indicator  \n",
      "Product_Category Date                               \n",
      "Tech Gadgets     2022-01-01                      1  \n",
      "                 2022-01-01                      1  \n",
      "                 2022-01-01                      1  \n",
      "Personal Care    2022-01-01                      1  \n",
      "                 2022-01-01                      1  \n"
     ]
    }
   ],
   "source": [
    "\n",
    "# 3. Set multi-level index with 'Product_Category' and 'Date'\n",
    "df.set_index(['Product_Category', 'Date'], inplace=True)\n",
    "print(\"After setting multi-level index with 'Product_Category' and 'Date':\")\n",
    "print(df.head())\n"
   ]
  },
  {
   "cell_type": "code",
   "execution_count": 79,
   "id": "31be13f2-6280-4ef2-8baf-80d5f9710690",
   "metadata": {},
   "outputs": [
    {
     "name": "stdout",
     "output_type": "stream",
     "text": [
      "Accessing a specific row with index value 'Home Gadgets':\n",
      "Empty DataFrame\n",
      "Columns: [Product_Category, Date, Product ID, Item, Total_Sales, Price_Per_Unit, Total_Revenue, Stock Level, Seasonality Indicator]\n",
      "Index: []\n"
     ]
    }
   ],
   "source": [
    "\n",
    "# 4. Access a specific row using index\n",
    "df.reset_index(inplace=True)  # Reset index to avoid multi-level conflicts\n",
    "print(\"Accessing a specific row with index value 'Home Gadgets':\")\n",
    "print(df[df['Product_Category'] == 'Home Gadgets'])\n"
   ]
  },
  {
   "cell_type": "code",
   "execution_count": 81,
   "id": "b4abdacc-1299-4c74-82b5-7ccedbba321e",
   "metadata": {},
   "outputs": [
    {
     "name": "stdout",
     "output_type": "stream",
     "text": [
      "Index type: int64\n",
      "Is index unique? True\n"
     ]
    }
   ],
   "source": [
    "\n",
    "# 5. Check index type and uniqueness\n",
    "print(\"Index type:\", df.index.dtype)\n",
    "print(\"Is index unique?\", df.index.is_unique)\n"
   ]
  },
  {
   "cell_type": "code",
   "execution_count": 83,
   "id": "0f4ed441-fff2-4689-9bed-26b4cd7df6d4",
   "metadata": {},
   "outputs": [
    {
     "name": "stdout",
     "output_type": "stream",
     "text": [
      "After renaming index labels:\n",
      "      Product_Category        Date  Product ID        Item  Total_Sales  \\\n",
      "Row_1     Tech Gadgets  2022-01-01         101      Laptop          9.0   \n",
      "Row_2     Tech Gadgets  2022-01-01         102  Smartphone         13.0   \n",
      "Row_3     Tech Gadgets  2022-01-01         103  Headphones         43.0   \n",
      "Row_4    Personal Care  2022-01-01         201     Shampoo         36.0   \n",
      "Row_5    Personal Care  2022-01-01         202        Soap         27.0   \n",
      "\n",
      "       Price_Per_Unit  Total_Revenue  Stock Level  Seasonality Indicator  \n",
      "Row_1           82.94         746.45           23                      1  \n",
      "Row_2           42.00         545.98          223                      1  \n",
      "Row_3           37.83        1626.64           30                      1  \n",
      "Row_4          118.55        4267.82          199                      1  \n",
      "Row_5          120.72        3259.53          197                      1  \n",
      "After Resetting Index:\n",
      "  Product_Category        Date  Product ID        Item  Total_Sales  \\\n",
      "0     Tech Gadgets  2022-01-01         101      Laptop          9.0   \n",
      "1     Tech Gadgets  2022-01-01         102  Smartphone         13.0   \n",
      "2     Tech Gadgets  2022-01-01         103  Headphones         43.0   \n",
      "3    Personal Care  2022-01-01         201     Shampoo         36.0   \n",
      "4    Personal Care  2022-01-01         202        Soap         27.0   \n",
      "\n",
      "   Price_Per_Unit  Total_Revenue  Stock Level  Seasonality Indicator  \n",
      "0           82.94         746.45           23                      1  \n",
      "1           42.00         545.98          223                      1  \n",
      "2           37.83        1626.64           30                      1  \n",
      "3          118.55        4267.82          199                      1  \n",
      "4          120.72        3259.53          197                      1  \n"
     ]
    }
   ],
   "source": [
    "\n",
    "# 6. Rename index labels\n",
    "df.index = [f\"Row_{i+1}\" for i in range(len(df))]\n",
    "print(\"After renaming index labels:\")\n",
    "print(df.head())\n",
    "df.set_index('Product_Category', inplace=True)\n",
    "df.reset_index(inplace=True)\n",
    "print(\"After Resetting Index:\")\n",
    "print(df.head())"
   ]
  },
  {
   "cell_type": "code",
   "execution_count": 87,
   "id": "d432df07-23d4-4e64-9645-f8a4cd6a99ec",
   "metadata": {},
   "outputs": [
    {
     "name": "stdout",
     "output_type": "stream",
     "text": [
      "Grouping by Product_Category and finding average Price:\n",
      "Product_Category\n",
      "Clothing         104.590356\n",
      "Personal Care    104.809856\n",
      "Tech Gadgets     104.762347\n",
      "Name: Price_Per_Unit, dtype: float64\n"
     ]
    }
   ],
   "source": [
    "# Grouping and Aggregation\n",
    "\n",
    "# 1. Group the dataset by Product_Category and find the average Price_Per_Unit for each category\n",
    "print(\"Grouping by Product_Category and finding average Price:\")\n",
    "print(df.groupby('Product_Category')['Price_Per_Unit'].mean())\n"
   ]
  },
  {
   "cell_type": "code",
   "execution_count": 89,
   "id": "eddcb37b-f6a5-4c4e-90cf-d577e4d8969d",
   "metadata": {},
   "outputs": [
    {
     "name": "stdout",
     "output_type": "stream",
     "text": [
      "Grouping by Price and counting occurrences in Product_Category:\n",
      "Price_Per_Unit\n",
      "10.01     1\n",
      "10.03     2\n",
      "10.07     1\n",
      "10.10     2\n",
      "10.12     1\n",
      "         ..\n",
      "199.83    1\n",
      "199.84    1\n",
      "199.86    1\n",
      "199.92    1\n",
      "199.98    1\n",
      "Name: Product_Category, Length: 4505, dtype: int64\n"
     ]
    }
   ],
   "source": [
    "\n",
    "# 2. Group by Price_Per_Unit and get the count of each group in the Product_Category column\n",
    "print(\"Grouping by Price and counting occurrences in Product_Category:\")\n",
    "print(df.groupby('Price_Per_Unit')['Product_Category'].count())\n"
   ]
  },
  {
   "cell_type": "code",
   "execution_count": 91,
   "id": "f76eb115-3a86-42b8-8b36-89572b78f232",
   "metadata": {},
   "outputs": [
    {
     "name": "stdout",
     "output_type": "stream",
     "text": [
      "Grouping by Product_Category and calculating total sales:\n",
      "Product_Category\n",
      "Clothing         36985.238209\n",
      "Personal Care    38097.791367\n",
      "Tech Gadgets     54482.633893\n",
      "Name: Total_Sales, dtype: float64\n"
     ]
    }
   ],
   "source": [
    "\n",
    "# 3. Group the data by Product and calculate the total Sales for each product category\n",
    "print(\"Grouping by Product_Category and calculating total sales:\")\n",
    "print(df.groupby('Product_Category')['Total_Sales'].sum())\n"
   ]
  },
  {
   "cell_type": "code",
   "execution_count": 93,
   "id": "9a099915-6d6c-4663-bd9c-97fbe418830e",
   "metadata": {},
   "outputs": [
    {
     "name": "stdout",
     "output_type": "stream",
     "text": [
      "Grouping by Price and summing Total_Sales:\n",
      "Price_Per_Unit\n",
      "10.01     21.0\n",
      "10.03     63.0\n",
      "10.07      1.0\n",
      "10.10     52.0\n",
      "10.12     26.0\n",
      "          ... \n",
      "199.83    46.0\n",
      "199.84    21.0\n",
      "199.86    27.0\n",
      "199.92    16.0\n",
      "199.98    46.0\n",
      "Name: Total_Sales, Length: 4505, dtype: float64\n"
     ]
    }
   ],
   "source": [
    "\n",
    "# 4. Group by Price_Per_Unit and display the sum of Total_Sales for each Price group\n",
    "print(\"Grouping by Price and summing Total_Sales:\")\n",
    "print(df.groupby('Price_Per_Unit')['Total_Sales'].sum())\n"
   ]
  },
  {
   "cell_type": "code",
   "execution_count": 99,
   "id": "ca3510a5-8322-4f41-a59d-51388b46a422",
   "metadata": {},
   "outputs": [
    {
     "name": "stdout",
     "output_type": "stream",
     "text": [
      "Grouping by Product_Category and counting unique Product_IDs:\n",
      "Product_Category\n",
      "Clothing         2\n",
      "Personal Care    2\n",
      "Tech Gadgets     3\n",
      "Name: Item, dtype: int64\n"
     ]
    }
   ],
   "source": [
    "# 5. Group by Product_Category and find the number of unique entries in the Item column\n",
    "print(\"Grouping by Product_Category and counting unique Product_IDs:\")\n",
    "print(df.groupby('Product_Category')['Item'].nunique())"
   ]
  },
  {
   "cell_type": "code",
   "execution_count": 97,
   "id": "52efe36c-1089-46d9-abcb-58dbb3131530",
   "metadata": {},
   "outputs": [
    {
     "name": "stdout",
     "output_type": "stream",
     "text": [
      "Grouping by Product_Category and finding max Total_Sales:\n",
      "Product_Category\n",
      "Clothing         50.0\n",
      "Personal Care    50.0\n",
      "Tech Gadgets     50.0\n",
      "Name: Total_Sales, dtype: float64\n",
      "Grouping by Product_Category and calculating Total Sales:\n",
      "Product_Category\n",
      "Clothing         36985.238209\n",
      "Personal Care    38097.791367\n",
      "Tech Gadgets     54482.633893\n",
      "Name: Total_Sales, dtype: float64\n"
     ]
    }
   ],
   "source": [
    "\n",
    "# 6. Group the dataset by Product_Category and find the maximum value of Total_Sales for each group\n",
    "print(\"Grouping by Product_Category and finding max Total_Sales:\")\n",
    "print(df.groupby('Product_Category')['Total_Sales'].max())\n",
    "print(\"Grouping by Product_Category and calculating Total Sales:\")\n",
    "print(df.groupby('Product_Category')['Total_Sales'].sum())\n"
   ]
  },
  {
   "cell_type": "code",
   "execution_count": 101,
   "id": "1aaecaa5-a718-4081-9a51-e72c3d49bb04",
   "metadata": {},
   "outputs": [
    {
     "name": "stdout",
     "output_type": "stream",
     "text": [
      "Grouping by Product_Category and calculating mean & median Price_Per_Unit:\n",
      "                        mean   median\n",
      "Product_Category                     \n",
      "Clothing          104.590356  105.700\n",
      "Personal Care     104.809856  101.380\n",
      "Tech Gadgets      104.762347  102.275\n"
     ]
    }
   ],
   "source": [
    "# Aggregation - Performing multiple aggregations\n",
    "\n",
    "# 1. Group by Product_Category and calculate both the mean and median of Price_Per_Unit\n",
    "print(\"Grouping by Product_Category and calculating mean & median Price_Per_Unit:\")\n",
    "print(df.groupby('Product_Category')['Price_Per_Unit'].agg(['mean', 'median']))\n"
   ]
  },
  {
   "cell_type": "code",
   "execution_count": 103,
   "id": "16f4e3c4-0061-482c-9c3a-d6e039a5271f",
   "metadata": {},
   "outputs": [
    {
     "name": "stdout",
     "output_type": "stream",
     "text": [
      "Grouping by Product_Category and performing sum, mean, count on Total_Sales:\n",
      "                           sum       mean  count\n",
      "Product_Category                                \n",
      "Clothing          36985.238209  25.332355   1460\n",
      "Personal Care     38097.791367  26.094378   1460\n",
      "Tech Gadgets      54482.633893  24.877915   2190\n"
     ]
    }
   ],
   "source": [
    "\n",
    "# 2. Perform multiple aggregations: find the sum, mean, and count of Total_Sales grouped by Product_Category\n",
    "print(\"Grouping by Product_Category and performing sum, mean, count on Total_Sales:\")\n",
    "print(df.groupby('Product_Category')['Total_Sales'].agg(['sum', 'mean', 'count']))\n"
   ]
  },
  {
   "cell_type": "code",
   "execution_count": 105,
   "id": "4d7e8434-9935-4427-91d8-d5ce82e95986",
   "metadata": {},
   "outputs": [
    {
     "name": "stdout",
     "output_type": "stream",
     "text": [
      "Grouping by Item and finding min and max of Price_Per_Unit:\n",
      "              min     max\n",
      "Item                     \n",
      "Headphones  11.01  199.73\n",
      "Jeans       10.07  199.92\n",
      "Laptop      10.03  199.74\n",
      "Shampoo     10.54  199.46\n",
      "Smartphone  10.15  199.86\n",
      "Soap        10.12  199.98\n",
      "T-shirt     10.01  199.76\n"
     ]
    }
   ],
   "source": [
    "\n",
    "# 3. Group by Item and apply min() and max() functions to the Price_Per_Unit column\n",
    "print(\"Grouping by Item and finding min and max of Price_Per_Unit:\")\n",
    "print(df.groupby('Item')['Price_Per_Unit'].agg(['min', 'max']))\n"
   ]
  },
  {
   "cell_type": "code",
   "execution_count": 107,
   "id": "af6fbe0c-2f3e-4276-a5d1-e6531e6caf22",
   "metadata": {},
   "outputs": [
    {
     "name": "stdout",
     "output_type": "stream",
     "text": [
      "Grouping by Product_Category and calculating range of Total_Sales:\n",
      "Product_Category\n",
      "Clothing         49.0\n",
      "Personal Care    49.0\n",
      "Tech Gadgets     49.0\n",
      "Name: Total_Sales, dtype: float64\n"
     ]
    }
   ],
   "source": [
    "\n",
    "# 4. Group by Product_Category and apply a custom aggregation function (e.g., find the range of Total_Sales within each category)\n",
    "def sales_range(series):\n",
    "    return series.max() - series.min()\n",
    "print(\"Grouping by Product_Category and calculating range of Total_Sales:\")\n",
    "print(df.groupby('Product_Category')['Total_Sales'].agg(sales_range))\n"
   ]
  },
  {
   "cell_type": "code",
   "execution_count": 123,
   "id": "0e366050-c3ea-40cb-be9a-01a2c8b6bc25",
   "metadata": {},
   "outputs": [
    {
     "name": "stdout",
     "output_type": "stream",
     "text": [
      "Grouping by Product_Category and calculating average Total_Sales and total Inventory Level:\n",
      "                  Total_Sales  Total_Revenue\n",
      "Product_Category                            \n",
      "Clothing            25.332355     3807908.07\n",
      "Personal Care       26.094378     3891317.62\n",
      "Tech Gadgets        24.877915     5642806.74\n"
     ]
    }
   ],
   "source": [
    "# 5. Group by Product_Category and calculate the average Total_Sales along with the total Total_Revenue for each group\n",
    "print(\"Grouping by Product_Category and calculating average Total_Sales and total Inventory Level:\")\n",
    "print(df.groupby('Product_Category').agg({'Total_Sales': 'mean', 'Total_Revenue': 'sum'}))\n"
   ]
  },
  {
   "cell_type": "code",
   "execution_count": 111,
   "id": "57718b2f-da9a-4116-94d4-0d40637cac20",
   "metadata": {},
   "outputs": [
    {
     "name": "stdout",
     "output_type": "stream",
     "text": [
      "Grouping by Product_Category and calculating standard deviation and variance of Total_Revenue:\n",
      "                          std           var\n",
      "Product_Category                           \n",
      "Clothing          2241.818863  5.025752e+06\n",
      "Personal Care     2210.096381  4.884526e+06\n",
      "Tech Gadgets      2215.676350  4.909222e+06\n"
     ]
    }
   ],
   "source": [
    "\n",
    "# 6. Group the data by Product_Category and find both the standard deviation and the variance of Total_Revenue\n",
    "print(\"Grouping by Product_Category and calculating standard deviation and variance of Total_Revenue:\")\n",
    "print(df.groupby('Product_Category')['Total_Revenue'].agg(['std', 'var']))\n"
   ]
  },
  {
   "cell_type": "code",
   "execution_count": 125,
   "id": "5b200480-c14e-4680-86f4-6aa517f5581d",
   "metadata": {},
   "outputs": [
    {
     "name": "stdout",
     "output_type": "stream",
     "text": [
      "Fake Dataset with Names, Addresses, and Dates:\n",
      "       Customer_Name                                            Address  \\\n",
      "0         Paul Smith    8335 Green Islands\\nNorth Crystalview, KY 34205   \n",
      "1    Connie Richards  2365 Steele Corner\\nNorth Stephaniefurt, GU 27131   \n",
      "2  Jessica Christian  67522 Martin Viaduct Suite 345\\nMcdonaldmouth,...   \n",
      "3     George Harrell  41758 Tonya Drives Suite 799\\nPort Dawnview, N...   \n",
      "4  Jessica Hayes DDS     081 Jackson Well Apt. 500\\nNancyfort, GA 46078   \n",
      "\n",
      "  Purchase_Date  \n",
      "0    2024-07-19  \n",
      "1    2023-12-11  \n",
      "2    2024-04-11  \n",
      "3    2023-05-05  \n",
      "4    2023-10-01  \n"
     ]
    }
   ],
   "source": [
    "# Faker - Generating Fake Data for Testing\n",
    "fake = Faker()\n",
    "\n",
    "# 1. Generate a fake dataset with 100 rows of random names, addresses, and dates\n",
    "data_fake = pd.DataFrame({\n",
    "    'Customer_Name': [fake.name() for _ in range(100)],\n",
    "    'Address': [fake.address() for _ in range(100)],\n",
    "    'Purchase_Date': [fake.date_between(start_date='-2y', end_date='today') for _ in range(100)]\n",
    "})\n",
    "print(\"Fake Dataset with Names, Addresses, and Dates:\")\n",
    "print(data_fake.head())\n"
   ]
  },
  {
   "cell_type": "code",
   "execution_count": 127,
   "id": "c4b1123c-fc93-45cb-8449-2c2a8008ff61",
   "metadata": {},
   "outputs": [
    {
     "name": "stdout",
     "output_type": "stream",
     "text": [
      "Fake Names:\n",
      "              Name\n",
      "0     Nicolas Hill\n",
      "1     David Archer\n",
      "2  Dr. Mallory Lee\n",
      "3  Christina Welch\n",
      "4   Steven Wilkins\n"
     ]
    }
   ],
   "source": [
    "\n",
    "# 2. Create a list of 20 fake names and store them in a Name column\n",
    "fake_names = [fake.name() for _ in range(20)]\n",
    "df_fake_names = pd.DataFrame({'Name': fake_names})\n",
    "print(\"Fake Names:\")\n",
    "print(df_fake_names.head())\n"
   ]
  },
  {
   "cell_type": "code",
   "execution_count": 129,
   "id": "73d4c863-a5b5-417e-b935-145fd9a7930f",
   "metadata": {},
   "outputs": [
    {
     "name": "stdout",
     "output_type": "stream",
     "text": [
      "Fake Emails:\n",
      "              Name                       Email\n",
      "0     Nicolas Hill       damoncook@example.org\n",
      "1     David Archer  christianpeggy@example.net\n",
      "2  Dr. Mallory Lee       vanessa32@example.net\n",
      "3  Christina Welch           echen@example.com\n",
      "4   Steven Wilkins        arthur01@example.org\n"
     ]
    }
   ],
   "source": [
    "\n",
    "# 3. Generate fake email addresses and store them in a column called Email\n",
    "df_fake_names['Email'] = [fake.email() for _ in range(20)]\n",
    "print(\"Fake Emails:\")\n",
    "print(df_fake_names.head())\n"
   ]
  },
  {
   "cell_type": "code",
   "execution_count": 131,
   "id": "f7ebc74e-3c3f-4397-ba52-dded7261234c",
   "metadata": {},
   "outputs": [
    {
     "name": "stdout",
     "output_type": "stream",
     "text": [
      "Fake Names with Age:\n",
      "              Name Date_of_Birth  Age\n",
      "0     Nicolas Hill    1983-01-30   41\n",
      "1     David Archer    1975-05-28   49\n",
      "2  Dr. Mallory Lee    2001-02-17   23\n",
      "3  Christina Welch    1954-10-10   70\n",
      "4   Steven Wilkins    1960-08-26   64\n"
     ]
    }
   ],
   "source": [
    "\n",
    "# 4. Generate fake dates of birth and convert them into an Age column using Faker\n",
    "df_fake_names['Date_of_Birth'] = [fake.date_of_birth(minimum_age=18, maximum_age=70) for _ in range(20)]\n",
    "df_fake_names['Age'] = df_fake_names['Date_of_Birth'].apply(lambda dob: 2024 - dob.year)\n",
    "print(\"Fake Names with Age:\")\n",
    "print(df_fake_names[['Name', 'Date_of_Birth', 'Age']].head())\n"
   ]
  },
  {
   "cell_type": "code",
   "execution_count": 133,
   "id": "9b0e40c7-a1bc-4258-94e5-c3a9ea56d032",
   "metadata": {},
   "outputs": [
    {
     "name": "stdout",
     "output_type": "stream",
     "text": [
      "Fake Product Data:\n",
      "  Product_Name  Price_Per_Unit\n",
      "0       forget           328.0\n",
      "1    certainly           199.0\n",
      "2         what           249.5\n",
      "3          ask           129.5\n",
      "4          key           355.0\n"
     ]
    }
   ],
   "source": [
    "\n",
    "# 5. Generate fake product names, and then create a DataFrame with Product_Name and Price\n",
    "df_fake_products = pd.DataFrame({\n",
    "    'Product_Name': [fake.word() for _ in range(20)],\n",
    "    'Price_Per_Unit': [round(fake.random_number(digits=3, fix_len=True) * 0.5, 2) for _ in range(20)]\n",
    "})\n",
    "print(\"Fake Product Data:\")\n",
    "print(df_fake_products.head())\n"
   ]
  },
  {
   "cell_type": "code",
   "execution_count": 135,
   "id": "2abda191-d39a-4c1d-85fb-c9714043b00f",
   "metadata": {},
   "outputs": [
    {
     "name": "stdout",
     "output_type": "stream",
     "text": [
      "Fake User Data:\n",
      "            Customer_Name          City            Phone_Number\n",
      "0             Brian Owens    Burnettton  001-957-328-4619x88194\n",
      "1             Gary Conway   Charlesberg         +1-407-615-6144\n",
      "2              Kyle Adams   Matthewberg            535-793-5735\n",
      "3           Tanya Salazar  New Patricia            293-940-1431\n",
      "4  Mrs. Brittany Calderon    Alexistown      446-804-0104x24554\n"
     ]
    }
   ],
   "source": [
    "\n",
    "# 6. Use Faker to create a DataFrame with fake user information, including Name, City, and Phone Number\n",
    "df_fake_users = pd.DataFrame({\n",
    "    'Customer_Name': [fake.name() for _ in range(20)],\n",
    "    'City': [fake.city() for _ in range(20)],\n",
    "    'Phone_Number': [fake.phone_number() for _ in range(20)]\n",
    "})\n",
    "print(\"Fake User Data:\")\n",
    "print(df_fake_users.head())\n"
   ]
  },
  {
   "cell_type": "code",
   "execution_count": 137,
   "id": "c0240318-895e-4c55-a94f-012ff6766dc3",
   "metadata": {},
   "outputs": [
    {
     "name": "stdout",
     "output_type": "stream",
     "text": [
      "Merged DataFrame on Product_ID:\n",
      "   Product_ID Product_Name  Price_Per_Unit  Stock_Available\n",
      "0           1       Laptop           50000               20\n",
      "1           2        Mouse            1500               50\n",
      "2           3     Keyboard            2000               30\n",
      "3           4      Monitor           12000               10\n"
     ]
    }
   ],
   "source": [
    "# Merging DataFrames\n",
    "\n",
    "# Creating dummy DataFrames for merging\n",
    "df1 = pd.DataFrame({\n",
    "    'Product_ID': range(1, 6),\n",
    "    'Product_Name': ['Laptop', 'Mouse', 'Keyboard', 'Monitor', 'Printer'],\n",
    "    'Price_Per_Unit': [50000, 1500, 2000, 12000, 8000]\n",
    "})\n",
    "\n",
    "df2 = pd.DataFrame({\n",
    "    'Product_ID': [1, 2, 3, 4, 6],\n",
    "    'Stock_Available': [20, 50, 30, 10, 5]\n",
    "})\n",
    "\n",
    "# 1. Merge two DataFrames on a common column 'Product_ID'\n",
    "df_merged = pd.merge(df1, df2, on='Product_ID')\n",
    "print(\"Merged DataFrame on Product_ID:\")\n",
    "print(df_merged)\n",
    "\n",
    "# Creating dummy DataFrames for Employee join\n",
    "df_emp1 = pd.DataFrame({\n",
    "    'Employee_ID': [101, 102, 103, 104],\n",
    "    'Employee_Name': ['Alice', 'Bob', 'Charlie', 'David']\n",
    "})\n",
    "\n",
    "df_emp2 = pd.DataFrame({\n",
    "    'Employee_ID': [103, 104, 105, 106],\n",
    "    'Department': ['HR', 'Finance', 'IT', 'Marketing']\n",
    "})\n"
   ]
  },
  {
   "cell_type": "code",
   "execution_count": 139,
   "id": "c699f0ac-fbd9-4253-af00-fb61ab3ce398",
   "metadata": {},
   "outputs": [
    {
     "name": "stdout",
     "output_type": "stream",
     "text": [
      "Left Join on Employee_ID:\n",
      "   Employee_ID Employee_Name Department\n",
      "0          101         Alice        NaN\n",
      "1          102           Bob        NaN\n",
      "2          103       Charlie         HR\n",
      "3          104         David    Finance\n"
     ]
    }
   ],
   "source": [
    "\n",
    "# 2. Perform a left join between two DataFrames based on Employee_ID\n",
    "df_left_join = pd.merge(df_emp1, df_emp2, on='Employee_ID', how='left')\n",
    "print(\"Left Join on Employee_ID:\")\n",
    "print(df_left_join)\n"
   ]
  },
  {
   "cell_type": "code",
   "execution_count": 141,
   "id": "ff8686c8-7202-4bc8-a508-9ebffc683615",
   "metadata": {},
   "outputs": [
    {
     "name": "stdout",
     "output_type": "stream",
     "text": [
      "Left Join Keeping All Left Rows:\n",
      "   Product_ID Product_Name  Price_Per_Unit  Stock_Available\n",
      "0           1       Laptop           50000             20.0\n",
      "1           2        Mouse            1500             50.0\n",
      "2           3     Keyboard            2000             30.0\n",
      "3           4      Monitor           12000             10.0\n",
      "4           5      Printer            8000              NaN\n"
     ]
    }
   ],
   "source": [
    "\n",
    "# 3. Merge two DataFrames, keeping all rows from the left DataFrame and matching rows from the right\n",
    "df_left_keep = pd.merge(df1, df2, on='Product_ID', how='left')\n",
    "print(\"Left Join Keeping All Left Rows:\")\n",
    "print(df_left_keep)\n"
   ]
  },
  {
   "cell_type": "code",
   "execution_count": 143,
   "id": "2cb0f0ed-ceb5-4adc-9ee6-92d2f2d6a714",
   "metadata": {},
   "outputs": [
    {
     "name": "stdout",
     "output_type": "stream",
     "text": [
      "Merged DataFrame on Multiple Columns:\n",
      "   Product_ID Product_Name  Price_Per_Unit  Stock_Available\n",
      "0           1       Laptop           50000               20\n",
      "1           2        Mouse            1500               50\n",
      "2           3     Keyboard            2000               30\n",
      "3           4      Monitor           12000               10\n"
     ]
    }
   ],
   "source": [
    "\n",
    "# 4. Merge two DataFrames on multiple columns (e.g., 'Product_Name' and 'Price_Per_Unit')\n",
    "df_multi_merge = pd.merge(df1, df2, left_on=['Product_ID'], right_on=['Product_ID'])\n",
    "print(\"Merged DataFrame on Multiple Columns:\")\n",
    "print(df_multi_merge)\n",
    "\n",
    "# Creating dummy DataFrames for Country join\n",
    "df_country1 = pd.DataFrame({\n",
    "    'Country': ['USA', 'India', 'UK', 'Germany'],\n",
    "    'GDP': [21.43, 2.87, 2.83, 3.84]\n",
    "})\n",
    "\n",
    "df_country2 = pd.DataFrame({\n",
    "    'Country': ['USA', 'India', 'France', 'Japan'],\n",
    "    'Population': [331, 1380, 67, 126]\n",
    "})\n"
   ]
  },
  {
   "cell_type": "code",
   "execution_count": 145,
   "id": "f04609d2-a49d-449c-b085-6717a81ee8ea",
   "metadata": {},
   "outputs": [
    {
     "name": "stdout",
     "output_type": "stream",
     "text": [
      "Inner Join on Country:\n",
      "  Country    GDP  Population\n",
      "0     USA  21.43         331\n",
      "1   India   2.87        1380\n"
     ]
    }
   ],
   "source": [
    "\n",
    "# 5. Perform an inner join on two DataFrames with a common column 'Country'\n",
    "df_inner_join = pd.merge(df_country1, df_country2, on='Country', how='inner')\n",
    "print(\"Inner Join on Country:\")\n",
    "print(df_inner_join)\n"
   ]
  },
  {
   "cell_type": "code",
   "execution_count": 147,
   "id": "964618f3-e561-4c23-9702-aeae127d3cd0",
   "metadata": {},
   "outputs": [
    {
     "name": "stdout",
     "output_type": "stream",
     "text": [
      "Outer Join Keeping All Rows:\n",
      "   Country    GDP  Population\n",
      "0   France    NaN        67.0\n",
      "1  Germany   3.84         NaN\n",
      "2    India   2.87      1380.0\n",
      "3    Japan    NaN       126.0\n",
      "4       UK   2.83         NaN\n",
      "5      USA  21.43       331.0\n"
     ]
    }
   ],
   "source": [
    "\n",
    "# 6. Merge two DataFrames and keep all rows, even if there’s no match in the second DataFrame\n",
    "df_outer_join = pd.merge(df_country1, df_country2, on='Country', how='outer')\n",
    "print(\"Outer Join Keeping All Rows:\")\n",
    "print(df_outer_join)\n"
   ]
  },
  {
   "cell_type": "code",
   "execution_count": 149,
   "id": "f718f179-046b-4abf-8ab0-fa33fd300851",
   "metadata": {},
   "outputs": [
    {
     "name": "stdout",
     "output_type": "stream",
     "text": [
      "Updated DataFrame:\n",
      "  Product_Category        Date  Product ID        Item  Total_Sales  \\\n",
      "0     Tech Gadgets  2022-01-01         101      Laptop          9.0   \n",
      "1     Tech Gadgets  2022-01-01         102  Smartphone         13.0   \n",
      "2     Tech Gadgets  2022-01-01         103  Headphones         43.0   \n",
      "3    Personal Care  2022-01-01         201     Shampoo         36.0   \n",
      "4    Personal Care  2022-01-01         202        Soap         27.0   \n",
      "\n",
      "   Price_Per_Unit  Total_Revenue  Stock Level  Seasonality Indicator  \n",
      "0           82.94         746.45           23                      1  \n",
      "1           42.00         545.98          223                      1  \n",
      "2           37.83        1626.64           30                      1  \n",
      "3          118.55        4267.82          199                      1  \n",
      "4          120.72        3259.53          197                      1  \n"
     ]
    }
   ],
   "source": [
    "# Saving Data\n",
    "#1. Save the DataFrame to a new CSV file. \n",
    "#2. Export the DataFrame to an Excel file.\n",
    "df.to_csv(\"modified_data.csv\", index=False)\n",
    "df.to_excel(\"modified_data.xlsx\", index=False)\n",
    "\n",
    "print(\"Updated DataFrame:\")\n",
    "print(df.head())"
   ]
  },
  {
   "cell_type": "code",
   "execution_count": 151,
   "id": "7510020a-33c9-4c8f-9058-70983e86cbe5",
   "metadata": {},
   "outputs": [
    {
     "name": "stdout",
     "output_type": "stream",
     "text": [
      "Filtered dataset where Price_Per_Unit is between 20 and 40 and Product_Category is 'Home Gadgets':\n",
      "Empty DataFrame\n",
      "Columns: [Product_Category, Date, Product ID, Item, Total_Sales, Price_Per_Unit, Total_Revenue, Stock Level, Seasonality Indicator]\n",
      "Index: []\n"
     ]
    }
   ],
   "source": [
    "# Complex Filtering and Aggregation\n",
    "\n",
    "# 1. Filter the dataset for all rows where the Price_Per_Unit is between 20 and 40 and the Product_Category is 'Home Gadgets'\n",
    "filtered_df = df[(df['Price_Per_Unit'].between(20, 40)) & (df['Product_Category'] == 'Home Gadgets')]\n",
    "print(\"Filtered dataset where Price_Per_Unit is between 20 and 40 and Product_Category is 'Home Gadgets':\")\n",
    "print(filtered_df.head())\n"
   ]
  },
  {
   "cell_type": "code",
   "execution_count": 153,
   "id": "8ca933c3-e472-4ec5-9a32-ef8e8c2cbcc1",
   "metadata": {},
   "outputs": [
    {
     "name": "stdout",
     "output_type": "stream",
     "text": [
      "Grouped by Product_Category with mean and median Price_Per_Unit:\n",
      "Empty DataFrame\n",
      "Columns: [mean, median]\n",
      "Index: []\n"
     ]
    }
   ],
   "source": [
    "\n",
    "# 2. Group the filtered data by Product_Category and calculate both the mean and median of Price_Per_Unit\n",
    "grouped_df = filtered_df.groupby('Product_Category')['Price_Per_Unit'].agg(['mean', 'median'])\n",
    "print(\"Grouped by Product_Category with mean and median Price_Per_Unit:\")\n",
    "print(grouped_df)\n"
   ]
  },
  {
   "cell_type": "code",
   "execution_count": 155,
   "id": "43f4244f-8552-455a-aca6-2bdc85ea489b",
   "metadata": {},
   "outputs": [
    {
     "name": "stdout",
     "output_type": "stream",
     "text": [
      "Sorted by mean Price_Per_Unit in descending order:\n",
      "Empty DataFrame\n",
      "Columns: [mean, median]\n",
      "Index: []\n"
     ]
    }
   ],
   "source": [
    "\n",
    "# 3. Sort the result in descending order by Price_Per_Unit\n",
    "grouped_df_sorted = grouped_df.sort_values(by='mean', ascending=False)\n",
    "print(\"Sorted by mean Price_Per_Unit in descending order:\")\n",
    "print(grouped_df_sorted)\n"
   ]
  },
  {
   "cell_type": "code",
   "execution_count": 157,
   "id": "4cebd7a4-e98e-40d9-89f9-fd57d0595d5a",
   "metadata": {},
   "outputs": [
    {
     "name": "stdout",
     "output_type": "stream",
     "text": [
      "After Creating Full_Name:\n",
      "         Item Product_Category                Full_Name\n",
      "0      Laptop     Tech Gadgets      Laptop Tech Gadgets\n",
      "1  Smartphone     Tech Gadgets  Smartphone Tech Gadgets\n",
      "2  Headphones     Tech Gadgets  Headphones Tech Gadgets\n",
      "3     Shampoo    Personal Care    Shampoo Personal Care\n",
      "4        Soap    Personal Care       Soap Personal Care\n"
     ]
    }
   ],
   "source": [
    "# Advanced String Manipulation and Grouping\n",
    "\n",
    "# 1. Create a new column Full_Name by concatenating Item and Product_Category with a space\n",
    "df['Full_Name'] = df['Item'] + ' ' + df['Product_Category']\n",
    "print(\"After Creating Full_Name:\")\n",
    "print(df[['Item', 'Product_Category', 'Full_Name']].head())\n"
   ]
  },
  {
   "cell_type": "code",
   "execution_count": 159,
   "id": "7ebc3298-0b26-44c8-8122-ae557b33a75b",
   "metadata": {},
   "outputs": [
    {
     "name": "stdout",
     "output_type": "stream",
     "text": [
      "After Splitting Full_Name into First_Part and Second_Part:\n",
      "                 Full_Name  First_Part    Second_Part\n",
      "0      Laptop Tech Gadgets      Laptop   Tech Gadgets\n",
      "1  Smartphone Tech Gadgets  Smartphone   Tech Gadgets\n",
      "2  Headphones Tech Gadgets  Headphones   Tech Gadgets\n",
      "3    Shampoo Personal Care     Shampoo  Personal Care\n",
      "4       Soap Personal Care        Soap  Personal Care\n"
     ]
    }
   ],
   "source": [
    "\n",
    "# 2. Split the Full_Name column into two separate columns: First_Part and Second_Part\n",
    "df[['First_Part', 'Second_Part']] = df['Full_Name'].str.split(' ', n=1, expand=True)\n",
    "print(\"After Splitting Full_Name into First_Part and Second_Part:\")\n",
    "print(df[['Full_Name', 'First_Part', 'Second_Part']].head())\n"
   ]
  },
  {
   "cell_type": "code",
   "execution_count": 161,
   "id": "025fba9b-d7e3-4854-a166-e33c7eb17f34",
   "metadata": {},
   "outputs": [
    {
     "name": "stdout",
     "output_type": "stream",
     "text": [
      "Grouping by Product_Category and counting unique Full_Name entries:\n",
      "Product_Category\n",
      "Clothing         2\n",
      "Personal Care    2\n",
      "Tech Gadgets     3\n",
      "Name: Full_Name, dtype: int64\n"
     ]
    }
   ],
   "source": [
    "\n",
    "# 3. Group by Product_Category and calculate the count of unique Full_Name entries for each category\n",
    "print(\"Grouping by Product_Category and counting unique Full_Name entries:\")\n",
    "print(df.groupby('Product_Category')['Full_Name'].nunique())\n"
   ]
  },
  {
   "cell_type": "code",
   "execution_count": 163,
   "id": "115c85d4-1744-43b3-83ed-76b7e6e644f8",
   "metadata": {},
   "outputs": [
    {
     "name": "stdout",
     "output_type": "stream",
     "text": [
      "After Normalizing Price_Per_Unit:\n",
      "   Price_Per_Unit  Normalized_Price\n",
      "0           82.94          0.383903\n",
      "1           42.00          0.168395\n",
      "2           37.83          0.146444\n",
      "3          118.55          0.571353\n",
      "4          120.72          0.582776\n"
     ]
    }
   ],
   "source": [
    "# Multiple Data Transformations and Merging\n",
    "\n",
    "# 1. Normalize the Price_Per_Unit column to scale values between 0 and 1\n",
    "df['Normalized_Price'] = (df['Price_Per_Unit'] - df['Price_Per_Unit'].min()) / (df['Price_Per_Unit'].max() - df['Price_Per_Unit'].min())\n",
    "print(\"After Normalizing Price_Per_Unit:\")\n",
    "print(df[['Price_Per_Unit', 'Normalized_Price']].head())\n"
   ]
  },
  {
   "cell_type": "code",
   "execution_count": 165,
   "id": "4c36da60-afec-4324-bc58-285aba95fb1b",
   "metadata": {},
   "outputs": [
    {
     "name": "stdout",
     "output_type": "stream",
     "text": [
      "After Replacing Negative Values in Price_Per_Unit with Median:\n",
      "   Price_Per_Unit\n",
      "0           82.94\n",
      "1           42.00\n",
      "2           37.83\n",
      "3          118.55\n",
      "4          120.72\n"
     ]
    }
   ],
   "source": [
    "\n",
    "# 2. Replace any negative values in Price_Per_Unit with the median of the column\n",
    "median_price = df['Price_Per_Unit'].median()\n",
    "df['Price_Per_Unit'] = df['Price_Per_Unit'].apply(lambda x: median_price if x < 0 else x)\n",
    "print(\"After Replacing Negative Values in Price_Per_Unit with Median:\")\n",
    "print(df[['Price_Per_Unit']].head())\n"
   ]
  },
  {
   "cell_type": "code",
   "execution_count": 185,
   "id": "67ca8ff0-5c5f-4579-9c23-f5b01c05ad8d",
   "metadata": {},
   "outputs": [
    {
     "name": "stdout",
     "output_type": "stream",
     "text": [
      "After Normalizing Price_Per_Unit:\n",
      "   Price_Per_Unit  Normalized_Price\n",
      "0           82.94          0.383903\n",
      "1           42.00          0.168395\n",
      "2           37.83          0.146444\n",
      "3          118.55          0.571353\n",
      "4          120.72          0.582776\n"
     ]
    }
   ],
   "source": [
    "# 3. Merge the cleaned dataset with another DataFrame (product_data) based on Product_ID\n",
    "# 1. Normalize the Price_Per_Unit column to scale values between 0 and 1\n",
    "df['Normalized_Price'] = (df['Price_Per_Unit'] - df['Price_Per_Unit'].min()) / (df['Price_Per_Unit'].max() - df['Price_Per_Unit'].min())\n",
    "print(\"After Normalizing Price_Per_Unit:\")\n",
    "print(df[['Price_Per_Unit', 'Normalized_Price']].head())\n"
   ]
  },
  {
   "cell_type": "code",
   "execution_count": 187,
   "id": "b908d43d-c6c9-4886-95d7-e20a4e281405",
   "metadata": {},
   "outputs": [
    {
     "name": "stdout",
     "output_type": "stream",
     "text": [
      "After Replacing Negative Values in Price_Per_Unit with Median:\n",
      "   Price_Per_Unit\n",
      "0           82.94\n",
      "1           42.00\n",
      "2           37.83\n",
      "3          118.55\n",
      "4          120.72\n"
     ]
    }
   ],
   "source": [
    "\n",
    "# 2. Replace any negative values in Price_Per_Unit with the median of the column\n",
    "median_price = df['Price_Per_Unit'].median()\n",
    "df['Price_Per_Unit'] = df['Price_Per_Unit'].apply(lambda x: median_price if x < 0 else x)\n",
    "print(\"After Replacing Negative Values in Price_Per_Unit with Median:\")\n",
    "print(df[['Price_Per_Unit']].head())\n"
   ]
  },
  {
   "cell_type": "code",
   "execution_count": 191,
   "id": "0094ac03-6a1e-4e8a-b70b-93999fdd4d95",
   "metadata": {},
   "outputs": [
    {
     "name": "stdout",
     "output_type": "stream",
     "text": [
      "Column 'Product_ID' not found in dataset, skipping merge.\n",
      "   Product_ID Product_Name  Price_Per_Unit  Stock_Available\n",
      "0           1       Laptop           50000               20\n",
      "1           2        Mouse            1500               50\n",
      "2           3     Keyboard            2000               30\n",
      "3           4      Monitor           12000               10\n"
     ]
    }
   ],
   "source": [
    "\n",
    "# 3. Merge the cleaned dataset with another DataFrame (product_data) based on Product ID\n",
    "if 'Product_ID' in df.columns:\n",
    "    product_data = pd.DataFrame({\n",
    "        'Product_ID': df['Product_ID'].dropna().unique(),\n",
    "        'Supplier': ['Supplier_A', 'Supplier_B', 'Supplier_C', 'Supplier_D', 'Supplier_E'] * (len(df['Product_ID'].dropna().unique()) // 5 + 1)\n",
    "    })[:len(df['Product_ID'].dropna().unique())]\n",
    "    df_merged = pd.merge(df, product_data, on='Product_ID', how='left')\n",
    "    print(\"Merged DataFrame with Product Data:\")\n",
    "    print(df_merged.head())\n",
    "else:\n",
    "    print(\"Column 'Product_ID' not found in dataset, skipping merge.\")\n",
    "print(df_merged.head())\n"
   ]
  },
  {
   "cell_type": "code",
   "execution_count": null,
   "id": "80dbcc1c-5f0d-4467-8e93-b49c36de25c5",
   "metadata": {},
   "outputs": [],
   "source": []
  }
 ],
 "metadata": {
  "kernelspec": {
   "display_name": "Python [conda env:base] *",
   "language": "python",
   "name": "conda-base-py"
  },
  "language_info": {
   "codemirror_mode": {
    "name": "ipython",
    "version": 3
   },
   "file_extension": ".py",
   "mimetype": "text/x-python",
   "name": "python",
   "nbconvert_exporter": "python",
   "pygments_lexer": "ipython3",
   "version": "3.12.7"
  }
 },
 "nbformat": 4,
 "nbformat_minor": 5
}
