{
 "cells": [
  {
   "cell_type": "code",
   "execution_count": 1,
   "id": "690393b2-c050-4a61-9d1a-62fa09c1b6e6",
   "metadata": {},
   "outputs": [],
   "source": [
    "import pandas as pd"
   ]
  },
  {
   "cell_type": "code",
   "execution_count": 3,
   "id": "66307d99-6c28-460c-9ea8-24f060bc7463",
   "metadata": {},
   "outputs": [
    {
     "name": "stdout",
     "output_type": "stream",
     "text": [
      "Product DataFrame with Total Value:\n",
      "   Product_ID Product_Name  Quantity  Price_Per_Unit  Total_Value\n",
      "0           1       Laptop        10           50000       500000\n",
      "1           2        Mouse        25            1500        37500\n",
      "2           3     Keyboard        15            2000        30000\n",
      "3           4      Monitor         8           12000        96000\n",
      "4           5      Printer        12            8000        96000\n",
      "5           6       Tablet        20           25000       500000\n",
      "6           7      Speaker        30            5000       150000\n",
      "7           8       Webcam        18            3000        54000\n",
      "8           9   Headphones        22            4000        88000\n",
      "9          10       Router        16            3500        56000\n",
      "Changes observed: Added 'Total_Value' column to the dataset.\n"
     ]
    }
   ],
   "source": [
    "# Creating a DataFrame with 'Product ID', 'Product Name', 'Quantity', and 'Price'\n",
    "df_products = pd.DataFrame({\n",
    "    'Product_ID': range(1, 11),\n",
    "    'Product_Name': ['Laptop', 'Mouse', 'Keyboard', 'Monitor', 'Printer', 'Tablet', 'Speaker', 'Webcam', 'Headphones', 'Router'],\n",
    "    'Quantity': [10, 25, 15, 8, 12, 20, 30, 18, 22, 16],\n",
    "    'Price_Per_Unit': [50000, 1500, 2000, 12000, 8000, 25000, 5000, 3000, 4000, 3500]\n",
    "})\n",
    "\n",
    "# Calculating 'Total Value' (Quantity * Price)\n",
    "df_products['Total_Value'] = df_products['Quantity'] * df_products['Price_Per_Unit']\n",
    "print(\"Product DataFrame with Total Value:\")\n",
    "print(df_products)\n",
    "\n",
    "# Saving original and modified DataFrame to Excel\n",
    "df_products.to_excel(\"original_products.xlsx\", index=False)\n",
    "df_products.to_excel(\"modified_products.xlsx\", index=False)\n",
    "\n",
    "# Comparing the original and modified versions\n",
    "print(\"Changes observed: Added 'Total_Value' column to the dataset.\")\n"
   ]
  },
  {
   "cell_type": "code",
   "execution_count": null,
   "id": "a765a5bf-4dcb-4ac2-b120-2c4ab72f1c97",
   "metadata": {},
   "outputs": [],
   "source": []
  }
 ],
 "metadata": {
  "kernelspec": {
   "display_name": "Python [conda env:base] *",
   "language": "python",
   "name": "conda-base-py"
  },
  "language_info": {
   "codemirror_mode": {
    "name": "ipython",
    "version": 3
   },
   "file_extension": ".py",
   "mimetype": "text/x-python",
   "name": "python",
   "nbconvert_exporter": "python",
   "pygments_lexer": "ipython3",
   "version": "3.12.7"
  }
 },
 "nbformat": 4,
 "nbformat_minor": 5
}
